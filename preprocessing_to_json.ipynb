{
  "nbformat": 4,
  "nbformat_minor": 0,
  "metadata": {
    "colab": {
      "provenance": []
    },
    "kernelspec": {
      "name": "python3",
      "display_name": "Python 3"
    },
    "language_info": {
      "name": "python"
    }
  },
  "cells": [
    {
      "cell_type": "code",
      "source": [
        "!pip install PyMuPDF\n",
        "!pip install Pix2Text"
      ],
      "metadata": {
        "colab": {
          "base_uri": "https://localhost:8080/"
        },
        "collapsed": true,
        "id": "iRweR3Xkx3wO",
        "outputId": "bd64de5e-74b6-41a8-bf51-959d06f5ca3e"
      },
      "execution_count": null,
      "outputs": [
        {
          "output_type": "stream",
          "name": "stdout",
          "text": [
            "Collecting PyMuPDF\n",
            "  Downloading pymupdf-1.25.4-cp39-abi3-manylinux2014_x86_64.manylinux_2_17_x86_64.whl.metadata (3.4 kB)\n",
            "Downloading pymupdf-1.25.4-cp39-abi3-manylinux2014_x86_64.manylinux_2_17_x86_64.whl (20.0 MB)\n",
            "\u001b[2K   \u001b[90m━━━━━━━━━━━━━━━━━━━━━━━━━━━━━━━━━━━━━━━━\u001b[0m \u001b[32m20.0/20.0 MB\u001b[0m \u001b[31m71.7 MB/s\u001b[0m eta \u001b[36m0:00:00\u001b[0m\n",
            "\u001b[?25hInstalling collected packages: PyMuPDF\n",
            "Successfully installed PyMuPDF-1.25.4\n",
            "Collecting Pix2Text\n",
            "  Downloading pix2text-1.1.2.3-py3-none-any.whl.metadata (15 kB)\n",
            "Requirement already satisfied: click in /usr/local/lib/python3.11/dist-packages (from Pix2Text) (8.1.8)\n",
            "Requirement already satisfied: tqdm in /usr/local/lib/python3.11/dist-packages (from Pix2Text) (4.67.1)\n",
            "Requirement already satisfied: numpy in /usr/local/lib/python3.11/dist-packages (from Pix2Text) (2.0.2)\n",
            "Requirement already satisfied: opencv-python in /usr/local/lib/python3.11/dist-packages (from Pix2Text) (4.11.0.86)\n",
            "Collecting cnocr>=2.3.0.2 (from cnocr[ort-cpu]>=2.3.0.2->Pix2Text)\n",
            "  Downloading cnocr-2.3.1-py3-none-any.whl.metadata (25 kB)\n",
            "Collecting cnstd>=1.2.4.2 (from Pix2Text)\n",
            "  Downloading cnstd-1.2.5.2-py3-none-any.whl.metadata (30 kB)\n",
            "Requirement already satisfied: pillow in /usr/local/lib/python3.11/dist-packages (from Pix2Text) (11.1.0)\n",
            "Requirement already satisfied: torch in /usr/local/lib/python3.11/dist-packages (from Pix2Text) (2.6.0+cu124)\n",
            "Requirement already satisfied: torchvision in /usr/local/lib/python3.11/dist-packages (from Pix2Text) (0.21.0+cu124)\n",
            "Requirement already satisfied: transformers>=4.37.0 in /usr/local/lib/python3.11/dist-packages (from Pix2Text) (4.48.3)\n",
            "Collecting optimum[onnxruntime] (from Pix2Text)\n",
            "  Downloading optimum-1.24.0-py3-none-any.whl.metadata (21 kB)\n",
            "Requirement already satisfied: PyMuPDF in /usr/local/lib/python3.11/dist-packages (from Pix2Text) (1.25.4)\n",
            "Collecting pyspellchecker (from Pix2Text)\n",
            "  Downloading pyspellchecker-0.8.2-py3-none-any.whl.metadata (9.4 kB)\n",
            "Collecting doclayout-yolo<0.1 (from Pix2Text)\n",
            "  Downloading doclayout_yolo-0.0.3-py3-none-any.whl.metadata (13 kB)\n",
            "Collecting pytorch-lightning>=2.0.0 (from cnocr>=2.3.0.2->cnocr[ort-cpu]>=2.3.0.2->Pix2Text)\n",
            "  Downloading pytorch_lightning-2.5.0.post0-py3-none-any.whl.metadata (21 kB)\n",
            "Requirement already satisfied: wandb in /usr/local/lib/python3.11/dist-packages (from cnocr>=2.3.0.2->cnocr[ort-cpu]>=2.3.0.2->Pix2Text) (0.19.8)\n",
            "Collecting torchmetrics (from cnocr>=2.3.0.2->cnocr[ort-cpu]>=2.3.0.2->Pix2Text)\n",
            "  Downloading torchmetrics-1.6.3-py3-none-any.whl.metadata (20 kB)\n",
            "Collecting onnx (from cnocr>=2.3.0.2->cnocr[ort-cpu]>=2.3.0.2->Pix2Text)\n",
            "  Downloading onnx-1.17.0-cp311-cp311-manylinux_2_17_x86_64.manylinux2014_x86_64.whl.metadata (16 kB)\n",
            "Collecting rapidocr-onnxruntime<1.4 (from cnocr>=2.3.0.2->cnocr[ort-cpu]>=2.3.0.2->Pix2Text)\n",
            "  Downloading rapidocr_onnxruntime-1.3.25-py3-none-any.whl.metadata (1.3 kB)\n",
            "Collecting onnxruntime (from cnocr[ort-cpu]>=2.3.0.2->Pix2Text)\n",
            "  Downloading onnxruntime-1.21.0-cp311-cp311-manylinux_2_27_x86_64.manylinux_2_28_x86_64.whl.metadata (4.5 kB)\n",
            "Requirement already satisfied: pyyaml in /usr/local/lib/python3.11/dist-packages (from cnstd>=1.2.4.2->Pix2Text) (6.0.2)\n",
            "Collecting unidecode (from cnstd>=1.2.4.2->Pix2Text)\n",
            "  Downloading Unidecode-1.3.8-py3-none-any.whl.metadata (13 kB)\n",
            "Requirement already satisfied: scipy in /usr/local/lib/python3.11/dist-packages (from cnstd>=1.2.4.2->Pix2Text) (1.14.1)\n",
            "Requirement already satisfied: pandas in /usr/local/lib/python3.11/dist-packages (from cnstd>=1.2.4.2->Pix2Text) (2.2.2)\n",
            "Requirement already satisfied: shapely in /usr/local/lib/python3.11/dist-packages (from cnstd>=1.2.4.2->Pix2Text) (2.0.7)\n",
            "Collecting pyclipper (from cnstd>=1.2.4.2->Pix2Text)\n",
            "  Downloading pyclipper-1.3.0.post6-cp311-cp311-manylinux_2_17_x86_64.manylinux2014_x86_64.whl.metadata (9.0 kB)\n",
            "Requirement already satisfied: matplotlib in /usr/local/lib/python3.11/dist-packages (from cnstd>=1.2.4.2->Pix2Text) (3.10.0)\n",
            "Requirement already satisfied: seaborn in /usr/local/lib/python3.11/dist-packages (from cnstd>=1.2.4.2->Pix2Text) (0.13.2)\n",
            "Requirement already satisfied: huggingface-hub in /usr/local/lib/python3.11/dist-packages (from cnstd>=1.2.4.2->Pix2Text) (0.28.1)\n",
            "Collecting ultralytics (from cnstd>=1.2.4.2->Pix2Text)\n",
            "  Downloading ultralytics-8.3.93-py3-none-any.whl.metadata (35 kB)\n",
            "Requirement already satisfied: requests>=2.23.0 in /usr/local/lib/python3.11/dist-packages (from doclayout-yolo<0.1->Pix2Text) (2.32.3)\n",
            "Requirement already satisfied: psutil in /usr/local/lib/python3.11/dist-packages (from doclayout-yolo<0.1->Pix2Text) (5.9.5)\n",
            "Requirement already satisfied: py-cpuinfo in /usr/local/lib/python3.11/dist-packages (from doclayout-yolo<0.1->Pix2Text) (9.0.0)\n",
            "Collecting thop>=0.1.1 (from doclayout-yolo<0.1->Pix2Text)\n",
            "  Downloading thop-0.1.1.post2209072238-py3-none-any.whl.metadata (2.7 kB)\n",
            "Requirement already satisfied: albumentations>=1.4.11 in /usr/local/lib/python3.11/dist-packages (from doclayout-yolo<0.1->Pix2Text) (2.0.5)\n",
            "Requirement already satisfied: filelock in /usr/local/lib/python3.11/dist-packages (from torch->Pix2Text) (3.17.0)\n",
            "Requirement already satisfied: typing-extensions>=4.10.0 in /usr/local/lib/python3.11/dist-packages (from torch->Pix2Text) (4.12.2)\n",
            "Requirement already satisfied: networkx in /usr/local/lib/python3.11/dist-packages (from torch->Pix2Text) (3.4.2)\n",
            "Requirement already satisfied: jinja2 in /usr/local/lib/python3.11/dist-packages (from torch->Pix2Text) (3.1.6)\n",
            "Requirement already satisfied: fsspec in /usr/local/lib/python3.11/dist-packages (from torch->Pix2Text) (2024.10.0)\n",
            "Collecting nvidia-cuda-nvrtc-cu12==12.4.127 (from torch->Pix2Text)\n",
            "  Downloading nvidia_cuda_nvrtc_cu12-12.4.127-py3-none-manylinux2014_x86_64.whl.metadata (1.5 kB)\n",
            "Collecting nvidia-cuda-runtime-cu12==12.4.127 (from torch->Pix2Text)\n",
            "  Downloading nvidia_cuda_runtime_cu12-12.4.127-py3-none-manylinux2014_x86_64.whl.metadata (1.5 kB)\n",
            "Collecting nvidia-cuda-cupti-cu12==12.4.127 (from torch->Pix2Text)\n",
            "  Downloading nvidia_cuda_cupti_cu12-12.4.127-py3-none-manylinux2014_x86_64.whl.metadata (1.6 kB)\n",
            "Collecting nvidia-cudnn-cu12==9.1.0.70 (from torch->Pix2Text)\n",
            "  Downloading nvidia_cudnn_cu12-9.1.0.70-py3-none-manylinux2014_x86_64.whl.metadata (1.6 kB)\n",
            "Collecting nvidia-cublas-cu12==12.4.5.8 (from torch->Pix2Text)\n",
            "  Downloading nvidia_cublas_cu12-12.4.5.8-py3-none-manylinux2014_x86_64.whl.metadata (1.5 kB)\n",
            "Collecting nvidia-cufft-cu12==11.2.1.3 (from torch->Pix2Text)\n",
            "  Downloading nvidia_cufft_cu12-11.2.1.3-py3-none-manylinux2014_x86_64.whl.metadata (1.5 kB)\n",
            "Collecting nvidia-curand-cu12==10.3.5.147 (from torch->Pix2Text)\n",
            "  Downloading nvidia_curand_cu12-10.3.5.147-py3-none-manylinux2014_x86_64.whl.metadata (1.5 kB)\n",
            "Collecting nvidia-cusolver-cu12==11.6.1.9 (from torch->Pix2Text)\n",
            "  Downloading nvidia_cusolver_cu12-11.6.1.9-py3-none-manylinux2014_x86_64.whl.metadata (1.6 kB)\n",
            "Collecting nvidia-cusparse-cu12==12.3.1.170 (from torch->Pix2Text)\n",
            "  Downloading nvidia_cusparse_cu12-12.3.1.170-py3-none-manylinux2014_x86_64.whl.metadata (1.6 kB)\n",
            "Requirement already satisfied: nvidia-cusparselt-cu12==0.6.2 in /usr/local/lib/python3.11/dist-packages (from torch->Pix2Text) (0.6.2)\n",
            "Requirement already satisfied: nvidia-nccl-cu12==2.21.5 in /usr/local/lib/python3.11/dist-packages (from torch->Pix2Text) (2.21.5)\n",
            "Requirement already satisfied: nvidia-nvtx-cu12==12.4.127 in /usr/local/lib/python3.11/dist-packages (from torch->Pix2Text) (12.4.127)\n",
            "Collecting nvidia-nvjitlink-cu12==12.4.127 (from torch->Pix2Text)\n",
            "  Downloading nvidia_nvjitlink_cu12-12.4.127-py3-none-manylinux2014_x86_64.whl.metadata (1.5 kB)\n",
            "Requirement already satisfied: triton==3.2.0 in /usr/local/lib/python3.11/dist-packages (from torch->Pix2Text) (3.2.0)\n",
            "Requirement already satisfied: sympy==1.13.1 in /usr/local/lib/python3.11/dist-packages (from torch->Pix2Text) (1.13.1)\n",
            "Requirement already satisfied: mpmath<1.4,>=1.1.0 in /usr/local/lib/python3.11/dist-packages (from sympy==1.13.1->torch->Pix2Text) (1.3.0)\n",
            "Requirement already satisfied: packaging>=20.0 in /usr/local/lib/python3.11/dist-packages (from transformers>=4.37.0->Pix2Text) (24.2)\n",
            "Requirement already satisfied: regex!=2019.12.17 in /usr/local/lib/python3.11/dist-packages (from transformers>=4.37.0->Pix2Text) (2024.11.6)\n",
            "Requirement already satisfied: tokenizers<0.22,>=0.21 in /usr/local/lib/python3.11/dist-packages (from transformers>=4.37.0->Pix2Text) (0.21.1)\n",
            "Requirement already satisfied: safetensors>=0.4.1 in /usr/local/lib/python3.11/dist-packages (from transformers>=4.37.0->Pix2Text) (0.5.3)\n",
            "Collecting datasets>=1.2.1 (from optimum[onnxruntime]->Pix2Text)\n",
            "  Downloading datasets-3.4.1-py3-none-any.whl.metadata (19 kB)\n",
            "Collecting evaluate (from optimum[onnxruntime]->Pix2Text)\n",
            "  Downloading evaluate-0.4.3-py3-none-any.whl.metadata (9.2 kB)\n",
            "Requirement already satisfied: protobuf>=3.20.1 in /usr/local/lib/python3.11/dist-packages (from optimum[onnxruntime]->Pix2Text) (4.25.6)\n",
            "Requirement already satisfied: pydantic>=2.9.2 in /usr/local/lib/python3.11/dist-packages (from albumentations>=1.4.11->doclayout-yolo<0.1->Pix2Text) (2.10.6)\n",
            "Requirement already satisfied: albucore==0.0.23 in /usr/local/lib/python3.11/dist-packages (from albumentations>=1.4.11->doclayout-yolo<0.1->Pix2Text) (0.0.23)\n",
            "Requirement already satisfied: opencv-python-headless>=4.9.0.80 in /usr/local/lib/python3.11/dist-packages (from albumentations>=1.4.11->doclayout-yolo<0.1->Pix2Text) (4.11.0.86)\n",
            "Requirement already satisfied: stringzilla>=3.10.4 in /usr/local/lib/python3.11/dist-packages (from albucore==0.0.23->albumentations>=1.4.11->doclayout-yolo<0.1->Pix2Text) (3.12.3)\n",
            "Requirement already satisfied: simsimd>=5.9.2 in /usr/local/lib/python3.11/dist-packages (from albucore==0.0.23->albumentations>=1.4.11->doclayout-yolo<0.1->Pix2Text) (6.2.1)\n",
            "Requirement already satisfied: pyarrow>=15.0.0 in /usr/local/lib/python3.11/dist-packages (from datasets>=1.2.1->optimum[onnxruntime]->Pix2Text) (18.1.0)\n",
            "Collecting dill<0.3.9,>=0.3.0 (from datasets>=1.2.1->optimum[onnxruntime]->Pix2Text)\n",
            "  Downloading dill-0.3.8-py3-none-any.whl.metadata (10 kB)\n",
            "Collecting xxhash (from datasets>=1.2.1->optimum[onnxruntime]->Pix2Text)\n",
            "  Downloading xxhash-3.5.0-cp311-cp311-manylinux_2_17_x86_64.manylinux2014_x86_64.whl.metadata (12 kB)\n",
            "Collecting multiprocess<0.70.17 (from datasets>=1.2.1->optimum[onnxruntime]->Pix2Text)\n",
            "  Downloading multiprocess-0.70.16-py311-none-any.whl.metadata (7.2 kB)\n",
            "Requirement already satisfied: aiohttp in /usr/local/lib/python3.11/dist-packages (from datasets>=1.2.1->optimum[onnxruntime]->Pix2Text) (3.11.13)\n",
            "Requirement already satisfied: contourpy>=1.0.1 in /usr/local/lib/python3.11/dist-packages (from matplotlib->cnstd>=1.2.4.2->Pix2Text) (1.3.1)\n",
            "Requirement already satisfied: cycler>=0.10 in /usr/local/lib/python3.11/dist-packages (from matplotlib->cnstd>=1.2.4.2->Pix2Text) (0.12.1)\n",
            "Requirement already satisfied: fonttools>=4.22.0 in /usr/local/lib/python3.11/dist-packages (from matplotlib->cnstd>=1.2.4.2->Pix2Text) (4.56.0)\n",
            "Requirement already satisfied: kiwisolver>=1.3.1 in /usr/local/lib/python3.11/dist-packages (from matplotlib->cnstd>=1.2.4.2->Pix2Text) (1.4.8)\n",
            "Requirement already satisfied: pyparsing>=2.3.1 in /usr/local/lib/python3.11/dist-packages (from matplotlib->cnstd>=1.2.4.2->Pix2Text) (3.2.1)\n",
            "Requirement already satisfied: python-dateutil>=2.7 in /usr/local/lib/python3.11/dist-packages (from matplotlib->cnstd>=1.2.4.2->Pix2Text) (2.8.2)\n",
            "Collecting coloredlogs (from onnxruntime->cnocr[ort-cpu]>=2.3.0.2->Pix2Text)\n",
            "  Downloading coloredlogs-15.0.1-py2.py3-none-any.whl.metadata (12 kB)\n",
            "Requirement already satisfied: flatbuffers in /usr/local/lib/python3.11/dist-packages (from onnxruntime->cnocr[ort-cpu]>=2.3.0.2->Pix2Text) (25.2.10)\n",
            "Requirement already satisfied: pytz>=2020.1 in /usr/local/lib/python3.11/dist-packages (from pandas->cnstd>=1.2.4.2->Pix2Text) (2025.1)\n",
            "Requirement already satisfied: tzdata>=2022.7 in /usr/local/lib/python3.11/dist-packages (from pandas->cnstd>=1.2.4.2->Pix2Text) (2025.1)\n",
            "Collecting lightning-utilities>=0.10.0 (from pytorch-lightning>=2.0.0->cnocr>=2.3.0.2->cnocr[ort-cpu]>=2.3.0.2->Pix2Text)\n",
            "  Downloading lightning_utilities-0.14.1-py3-none-any.whl.metadata (5.6 kB)\n",
            "Requirement already satisfied: six>=1.15.0 in /usr/local/lib/python3.11/dist-packages (from rapidocr-onnxruntime<1.4->cnocr>=2.3.0.2->cnocr[ort-cpu]>=2.3.0.2->Pix2Text) (1.17.0)\n",
            "Requirement already satisfied: charset-normalizer<4,>=2 in /usr/local/lib/python3.11/dist-packages (from requests>=2.23.0->doclayout-yolo<0.1->Pix2Text) (3.4.1)\n",
            "Requirement already satisfied: idna<4,>=2.5 in /usr/local/lib/python3.11/dist-packages (from requests>=2.23.0->doclayout-yolo<0.1->Pix2Text) (3.10)\n",
            "Requirement already satisfied: urllib3<3,>=1.21.1 in /usr/local/lib/python3.11/dist-packages (from requests>=2.23.0->doclayout-yolo<0.1->Pix2Text) (2.3.0)\n",
            "Requirement already satisfied: certifi>=2017.4.17 in /usr/local/lib/python3.11/dist-packages (from requests>=2.23.0->doclayout-yolo<0.1->Pix2Text) (2025.1.31)\n",
            "Requirement already satisfied: MarkupSafe>=2.0 in /usr/local/lib/python3.11/dist-packages (from jinja2->torch->Pix2Text) (3.0.2)\n",
            "Collecting ultralytics-thop>=2.0.0 (from ultralytics->cnstd>=1.2.4.2->Pix2Text)\n",
            "  Downloading ultralytics_thop-2.0.14-py3-none-any.whl.metadata (9.4 kB)\n",
            "Requirement already satisfied: docker-pycreds>=0.4.0 in /usr/local/lib/python3.11/dist-packages (from wandb->cnocr>=2.3.0.2->cnocr[ort-cpu]>=2.3.0.2->Pix2Text) (0.4.0)\n",
            "Requirement already satisfied: gitpython!=3.1.29,>=1.0.0 in /usr/local/lib/python3.11/dist-packages (from wandb->cnocr>=2.3.0.2->cnocr[ort-cpu]>=2.3.0.2->Pix2Text) (3.1.44)\n",
            "Requirement already satisfied: platformdirs in /usr/local/lib/python3.11/dist-packages (from wandb->cnocr>=2.3.0.2->cnocr[ort-cpu]>=2.3.0.2->Pix2Text) (4.3.6)\n",
            "Requirement already satisfied: sentry-sdk>=2.0.0 in /usr/local/lib/python3.11/dist-packages (from wandb->cnocr>=2.3.0.2->cnocr[ort-cpu]>=2.3.0.2->Pix2Text) (2.22.0)\n",
            "Requirement already satisfied: setproctitle in /usr/local/lib/python3.11/dist-packages (from wandb->cnocr>=2.3.0.2->cnocr[ort-cpu]>=2.3.0.2->Pix2Text) (1.3.5)\n",
            "Requirement already satisfied: setuptools in /usr/local/lib/python3.11/dist-packages (from wandb->cnocr>=2.3.0.2->cnocr[ort-cpu]>=2.3.0.2->Pix2Text) (75.1.0)\n",
            "Requirement already satisfied: aiohappyeyeballs>=2.3.0 in /usr/local/lib/python3.11/dist-packages (from aiohttp->datasets>=1.2.1->optimum[onnxruntime]->Pix2Text) (2.6.1)\n",
            "Requirement already satisfied: aiosignal>=1.1.2 in /usr/local/lib/python3.11/dist-packages (from aiohttp->datasets>=1.2.1->optimum[onnxruntime]->Pix2Text) (1.3.2)\n",
            "Requirement already satisfied: attrs>=17.3.0 in /usr/local/lib/python3.11/dist-packages (from aiohttp->datasets>=1.2.1->optimum[onnxruntime]->Pix2Text) (25.3.0)\n",
            "Requirement already satisfied: frozenlist>=1.1.1 in /usr/local/lib/python3.11/dist-packages (from aiohttp->datasets>=1.2.1->optimum[onnxruntime]->Pix2Text) (1.5.0)\n",
            "Requirement already satisfied: multidict<7.0,>=4.5 in /usr/local/lib/python3.11/dist-packages (from aiohttp->datasets>=1.2.1->optimum[onnxruntime]->Pix2Text) (6.1.0)\n",
            "Requirement already satisfied: propcache>=0.2.0 in /usr/local/lib/python3.11/dist-packages (from aiohttp->datasets>=1.2.1->optimum[onnxruntime]->Pix2Text) (0.3.0)\n",
            "Requirement already satisfied: yarl<2.0,>=1.17.0 in /usr/local/lib/python3.11/dist-packages (from aiohttp->datasets>=1.2.1->optimum[onnxruntime]->Pix2Text) (1.18.3)\n",
            "Requirement already satisfied: gitdb<5,>=4.0.1 in /usr/local/lib/python3.11/dist-packages (from gitpython!=3.1.29,>=1.0.0->wandb->cnocr>=2.3.0.2->cnocr[ort-cpu]>=2.3.0.2->Pix2Text) (4.0.12)\n",
            "Requirement already satisfied: annotated-types>=0.6.0 in /usr/local/lib/python3.11/dist-packages (from pydantic>=2.9.2->albumentations>=1.4.11->doclayout-yolo<0.1->Pix2Text) (0.7.0)\n",
            "Requirement already satisfied: pydantic-core==2.27.2 in /usr/local/lib/python3.11/dist-packages (from pydantic>=2.9.2->albumentations>=1.4.11->doclayout-yolo<0.1->Pix2Text) (2.27.2)\n",
            "Collecting humanfriendly>=9.1 (from coloredlogs->onnxruntime->cnocr[ort-cpu]>=2.3.0.2->Pix2Text)\n",
            "  Downloading humanfriendly-10.0-py2.py3-none-any.whl.metadata (9.2 kB)\n",
            "Requirement already satisfied: smmap<6,>=3.0.1 in /usr/local/lib/python3.11/dist-packages (from gitdb<5,>=4.0.1->gitpython!=3.1.29,>=1.0.0->wandb->cnocr>=2.3.0.2->cnocr[ort-cpu]>=2.3.0.2->Pix2Text) (5.0.2)\n",
            "Downloading pix2text-1.1.2.3-py3-none-any.whl (215 kB)\n",
            "\u001b[2K   \u001b[90m━━━━━━━━━━━━━━━━━━━━━━━━━━━━━━━━━━━━━━━━\u001b[0m \u001b[32m215.7/215.7 kB\u001b[0m \u001b[31m5.7 MB/s\u001b[0m eta \u001b[36m0:00:00\u001b[0m\n",
            "\u001b[?25hDownloading cnocr-2.3.1-py3-none-any.whl (224 kB)\n",
            "\u001b[2K   \u001b[90m━━━━━━━━━━━━━━━━━━━━━━━━━━━━━━━━━━━━━━━━\u001b[0m \u001b[32m224.6/224.6 kB\u001b[0m \u001b[31m21.2 MB/s\u001b[0m eta \u001b[36m0:00:00\u001b[0m\n",
            "\u001b[?25hDownloading cnstd-1.2.5.2-py3-none-any.whl (253 kB)\n",
            "\u001b[2K   \u001b[90m━━━━━━━━━━━━━━━━━━━━━━━━━━━━━━━━━━━━━━━━\u001b[0m \u001b[32m253.4/253.4 kB\u001b[0m \u001b[31m25.0 MB/s\u001b[0m eta \u001b[36m0:00:00\u001b[0m\n",
            "\u001b[?25hDownloading doclayout_yolo-0.0.3-py3-none-any.whl (711 kB)\n",
            "\u001b[2K   \u001b[90m━━━━━━━━━━━━━━━━━━━━━━━━━━━━━━━━━━━━━━━━\u001b[0m \u001b[32m711.2/711.2 kB\u001b[0m \u001b[31m28.4 MB/s\u001b[0m eta \u001b[36m0:00:00\u001b[0m\n",
            "\u001b[?25hDownloading nvidia_cublas_cu12-12.4.5.8-py3-none-manylinux2014_x86_64.whl (363.4 MB)\n",
            "\u001b[2K   \u001b[90m━━━━━━━━━━━━━━━━━━━━━━━━━━━━━━━━━━━━━━━━\u001b[0m \u001b[32m363.4/363.4 MB\u001b[0m \u001b[31m4.6 MB/s\u001b[0m eta \u001b[36m0:00:00\u001b[0m\n",
            "\u001b[?25hDownloading nvidia_cuda_cupti_cu12-12.4.127-py3-none-manylinux2014_x86_64.whl (13.8 MB)\n",
            "\u001b[2K   \u001b[90m━━━━━━━━━━━━━━━━━━━━━━━━━━━━━━━━━━━━━━━━\u001b[0m \u001b[32m13.8/13.8 MB\u001b[0m \u001b[31m68.1 MB/s\u001b[0m eta \u001b[36m0:00:00\u001b[0m\n",
            "\u001b[?25hDownloading nvidia_cuda_nvrtc_cu12-12.4.127-py3-none-manylinux2014_x86_64.whl (24.6 MB)\n",
            "\u001b[2K   \u001b[90m━━━━━━━━━━━━━━━━━━━━━━━━━━━━━━━━━━━━━━━━\u001b[0m \u001b[32m24.6/24.6 MB\u001b[0m \u001b[31m52.7 MB/s\u001b[0m eta \u001b[36m0:00:00\u001b[0m\n",
            "\u001b[?25hDownloading nvidia_cuda_runtime_cu12-12.4.127-py3-none-manylinux2014_x86_64.whl (883 kB)\n",
            "\u001b[2K   \u001b[90m━━━━━━━━━━━━━━━━━━━━━━━━━━━━━━━━━━━━━━━━\u001b[0m \u001b[32m883.7/883.7 kB\u001b[0m \u001b[31m45.7 MB/s\u001b[0m eta \u001b[36m0:00:00\u001b[0m\n",
            "\u001b[?25hDownloading nvidia_cudnn_cu12-9.1.0.70-py3-none-manylinux2014_x86_64.whl (664.8 MB)\n",
            "\u001b[2K   \u001b[90m━━━━━━━━━━━━━━━━━━━━━━━━━━━━━━━━━━━━━━━━\u001b[0m \u001b[32m664.8/664.8 MB\u001b[0m \u001b[31m2.7 MB/s\u001b[0m eta \u001b[36m0:00:00\u001b[0m\n",
            "\u001b[?25hDownloading nvidia_cufft_cu12-11.2.1.3-py3-none-manylinux2014_x86_64.whl (211.5 MB)\n",
            "\u001b[2K   \u001b[90m━━━━━━━━━━━━━━━━━━━━━━━━━━━━━━━━━━━━━━━━\u001b[0m \u001b[32m211.5/211.5 MB\u001b[0m \u001b[31m5.5 MB/s\u001b[0m eta \u001b[36m0:00:00\u001b[0m\n",
            "\u001b[?25hDownloading nvidia_curand_cu12-10.3.5.147-py3-none-manylinux2014_x86_64.whl (56.3 MB)\n",
            "\u001b[2K   \u001b[90m━━━━━━━━━━━━━━━━━━━━━━━━━━━━━━━━━━━━━━━━\u001b[0m \u001b[32m56.3/56.3 MB\u001b[0m \u001b[31m11.4 MB/s\u001b[0m eta \u001b[36m0:00:00\u001b[0m\n",
            "\u001b[?25hDownloading nvidia_cusolver_cu12-11.6.1.9-py3-none-manylinux2014_x86_64.whl (127.9 MB)\n",
            "\u001b[2K   \u001b[90m━━━━━━━━━━━━━━━━━━━━━━━━━━━━━━━━━━━━━━━━\u001b[0m \u001b[32m127.9/127.9 MB\u001b[0m \u001b[31m7.3 MB/s\u001b[0m eta \u001b[36m0:00:00\u001b[0m\n",
            "\u001b[?25hDownloading nvidia_cusparse_cu12-12.3.1.170-py3-none-manylinux2014_x86_64.whl (207.5 MB)\n",
            "\u001b[2K   \u001b[90m━━━━━━━━━━━━━━━━━━━━━━━━━━━━━━━━━━━━━━━━\u001b[0m \u001b[32m207.5/207.5 MB\u001b[0m \u001b[31m6.3 MB/s\u001b[0m eta \u001b[36m0:00:00\u001b[0m\n",
            "\u001b[?25hDownloading nvidia_nvjitlink_cu12-12.4.127-py3-none-manylinux2014_x86_64.whl (21.1 MB)\n",
            "\u001b[2K   \u001b[90m━━━━━━━━━━━━━━━━━━━━━━━━━━━━━━━━━━━━━━━━\u001b[0m \u001b[32m21.1/21.1 MB\u001b[0m \u001b[31m82.7 MB/s\u001b[0m eta \u001b[36m0:00:00\u001b[0m\n",
            "\u001b[?25hDownloading pyspellchecker-0.8.2-py3-none-any.whl (7.1 MB)\n",
            "\u001b[2K   \u001b[90m━━━━━━━━━━━━━━━━━━━━━━━━━━━━━━━━━━━━━━━━\u001b[0m \u001b[32m7.1/7.1 MB\u001b[0m \u001b[31m96.8 MB/s\u001b[0m eta \u001b[36m0:00:00\u001b[0m\n",
            "\u001b[?25hDownloading datasets-3.4.1-py3-none-any.whl (487 kB)\n",
            "\u001b[2K   \u001b[90m━━━━━━━━━━━━━━━━━━━━━━━━━━━━━━━━━━━━━━━━\u001b[0m \u001b[32m487.4/487.4 kB\u001b[0m \u001b[31m39.5 MB/s\u001b[0m eta \u001b[36m0:00:00\u001b[0m\n",
            "\u001b[?25hDownloading onnxruntime-1.21.0-cp311-cp311-manylinux_2_27_x86_64.manylinux_2_28_x86_64.whl (16.0 MB)\n",
            "\u001b[2K   \u001b[90m━━━━━━━━━━━━━━━━━━━━━━━━━━━━━━━━━━━━━━━━\u001b[0m \u001b[32m16.0/16.0 MB\u001b[0m \u001b[31m87.1 MB/s\u001b[0m eta \u001b[36m0:00:00\u001b[0m\n",
            "\u001b[?25hDownloading pytorch_lightning-2.5.0.post0-py3-none-any.whl (819 kB)\n",
            "\u001b[2K   \u001b[90m━━━━━━━━━━━━━━━━━━━━━━━━━━━━━━━━━━━━━━━━\u001b[0m \u001b[32m819.3/819.3 kB\u001b[0m \u001b[31m53.1 MB/s\u001b[0m eta \u001b[36m0:00:00\u001b[0m\n",
            "\u001b[?25hDownloading rapidocr_onnxruntime-1.3.25-py3-none-any.whl (14.9 MB)\n",
            "\u001b[2K   \u001b[90m━━━━━━━━━━━━━━━━━━━━━━━━━━━━━━━━━━━━━━━━\u001b[0m \u001b[32m14.9/14.9 MB\u001b[0m \u001b[31m27.7 MB/s\u001b[0m eta \u001b[36m0:00:00\u001b[0m\n",
            "\u001b[?25hDownloading pyclipper-1.3.0.post6-cp311-cp311-manylinux_2_17_x86_64.manylinux2014_x86_64.whl (969 kB)\n",
            "\u001b[2K   \u001b[90m━━━━━━━━━━━━━━━━━━━━━━━━━━━━━━━━━━━━━━━━\u001b[0m \u001b[32m969.6/969.6 kB\u001b[0m \u001b[31m57.9 MB/s\u001b[0m eta \u001b[36m0:00:00\u001b[0m\n",
            "\u001b[?25hDownloading thop-0.1.1.post2209072238-py3-none-any.whl (15 kB)\n",
            "Downloading torchmetrics-1.6.3-py3-none-any.whl (931 kB)\n",
            "\u001b[2K   \u001b[90m━━━━━━━━━━━━━━━━━━━━━━━━━━━━━━━━━━━━━━━━\u001b[0m \u001b[32m931.7/931.7 kB\u001b[0m \u001b[31m56.3 MB/s\u001b[0m eta \u001b[36m0:00:00\u001b[0m\n",
            "\u001b[?25hDownloading evaluate-0.4.3-py3-none-any.whl (84 kB)\n",
            "\u001b[2K   \u001b[90m━━━━━━━━━━━━━━━━━━━━━━━━━━━━━━━━━━━━━━━━\u001b[0m \u001b[32m84.0/84.0 kB\u001b[0m \u001b[31m8.1 MB/s\u001b[0m eta \u001b[36m0:00:00\u001b[0m\n",
            "\u001b[?25hDownloading onnx-1.17.0-cp311-cp311-manylinux_2_17_x86_64.manylinux2014_x86_64.whl (16.0 MB)\n",
            "\u001b[2K   \u001b[90m━━━━━━━━━━━━━━━━━━━━━━━━━━━━━━━━━━━━━━━━\u001b[0m \u001b[32m16.0/16.0 MB\u001b[0m \u001b[31m89.2 MB/s\u001b[0m eta \u001b[36m0:00:00\u001b[0m\n",
            "\u001b[?25hDownloading optimum-1.24.0-py3-none-any.whl (433 kB)\n",
            "\u001b[2K   \u001b[90m━━━━━━━━━━━━━━━━━━━━━━━━━━━━━━━━━━━━━━━━\u001b[0m \u001b[32m433.6/433.6 kB\u001b[0m \u001b[31m37.4 MB/s\u001b[0m eta \u001b[36m0:00:00\u001b[0m\n",
            "\u001b[?25hDownloading ultralytics-8.3.93-py3-none-any.whl (949 kB)\n",
            "\u001b[2K   \u001b[90m━━━━━━━━━━━━━━━━━━━━━━━━━━━━━━━━━━━━━━━━\u001b[0m \u001b[32m949.3/949.3 kB\u001b[0m \u001b[31m60.1 MB/s\u001b[0m eta \u001b[36m0:00:00\u001b[0m\n",
            "\u001b[?25hDownloading Unidecode-1.3.8-py3-none-any.whl (235 kB)\n",
            "\u001b[2K   \u001b[90m━━━━━━━━━━━━━━━━━━━━━━━━━━━━━━━━━━━━━━━━\u001b[0m \u001b[32m235.5/235.5 kB\u001b[0m \u001b[31m22.0 MB/s\u001b[0m eta \u001b[36m0:00:00\u001b[0m\n",
            "\u001b[?25hDownloading dill-0.3.8-py3-none-any.whl (116 kB)\n",
            "\u001b[2K   \u001b[90m━━━━━━━━━━━━━━━━━━━━━━━━━━━━━━━━━━━━━━━━\u001b[0m \u001b[32m116.3/116.3 kB\u001b[0m \u001b[31m11.8 MB/s\u001b[0m eta \u001b[36m0:00:00\u001b[0m\n",
            "\u001b[?25hDownloading lightning_utilities-0.14.1-py3-none-any.whl (28 kB)\n",
            "Downloading multiprocess-0.70.16-py311-none-any.whl (143 kB)\n",
            "\u001b[2K   \u001b[90m━━━━━━━━━━━━━━━━━━━━━━━━━━━━━━━━━━━━━━━━\u001b[0m \u001b[32m143.5/143.5 kB\u001b[0m \u001b[31m15.5 MB/s\u001b[0m eta \u001b[36m0:00:00\u001b[0m\n",
            "\u001b[?25hDownloading ultralytics_thop-2.0.14-py3-none-any.whl (26 kB)\n",
            "Downloading coloredlogs-15.0.1-py2.py3-none-any.whl (46 kB)\n",
            "\u001b[2K   \u001b[90m━━━━━━━━━━━━━━━━━━━━━━━━━━━━━━━━━━━━━━━━\u001b[0m \u001b[32m46.0/46.0 kB\u001b[0m \u001b[31m4.9 MB/s\u001b[0m eta \u001b[36m0:00:00\u001b[0m\n",
            "\u001b[?25hDownloading xxhash-3.5.0-cp311-cp311-manylinux_2_17_x86_64.manylinux2014_x86_64.whl (194 kB)\n",
            "\u001b[2K   \u001b[90m━━━━━━━━━━━━━━━━━━━━━━━━━━━━━━━━━━━━━━━━\u001b[0m \u001b[32m194.8/194.8 kB\u001b[0m \u001b[31m20.1 MB/s\u001b[0m eta \u001b[36m0:00:00\u001b[0m\n",
            "\u001b[?25hDownloading humanfriendly-10.0-py2.py3-none-any.whl (86 kB)\n",
            "\u001b[2K   \u001b[90m━━━━━━━━━━━━━━━━━━━━━━━━━━━━━━━━━━━━━━━━\u001b[0m \u001b[32m86.8/86.8 kB\u001b[0m \u001b[31m9.6 MB/s\u001b[0m eta \u001b[36m0:00:00\u001b[0m\n",
            "\u001b[?25hInstalling collected packages: pyclipper, xxhash, unidecode, pyspellchecker, onnx, nvidia-nvjitlink-cu12, nvidia-curand-cu12, nvidia-cufft-cu12, nvidia-cuda-runtime-cu12, nvidia-cuda-nvrtc-cu12, nvidia-cuda-cupti-cu12, nvidia-cublas-cu12, lightning-utilities, humanfriendly, dill, nvidia-cusparse-cu12, nvidia-cudnn-cu12, multiprocess, coloredlogs, onnxruntime, nvidia-cusolver-cu12, rapidocr-onnxruntime, datasets, ultralytics-thop, torchmetrics, thop, optimum, evaluate, ultralytics, pytorch-lightning, doclayout-yolo, cnstd, cnocr, Pix2Text\n",
            "  Attempting uninstall: nvidia-nvjitlink-cu12\n",
            "    Found existing installation: nvidia-nvjitlink-cu12 12.5.82\n",
            "    Uninstalling nvidia-nvjitlink-cu12-12.5.82:\n",
            "      Successfully uninstalled nvidia-nvjitlink-cu12-12.5.82\n",
            "  Attempting uninstall: nvidia-curand-cu12\n",
            "    Found existing installation: nvidia-curand-cu12 10.3.6.82\n",
            "    Uninstalling nvidia-curand-cu12-10.3.6.82:\n",
            "      Successfully uninstalled nvidia-curand-cu12-10.3.6.82\n",
            "  Attempting uninstall: nvidia-cufft-cu12\n",
            "    Found existing installation: nvidia-cufft-cu12 11.2.3.61\n",
            "    Uninstalling nvidia-cufft-cu12-11.2.3.61:\n",
            "      Successfully uninstalled nvidia-cufft-cu12-11.2.3.61\n",
            "  Attempting uninstall: nvidia-cuda-runtime-cu12\n",
            "    Found existing installation: nvidia-cuda-runtime-cu12 12.5.82\n",
            "    Uninstalling nvidia-cuda-runtime-cu12-12.5.82:\n",
            "      Successfully uninstalled nvidia-cuda-runtime-cu12-12.5.82\n",
            "  Attempting uninstall: nvidia-cuda-nvrtc-cu12\n",
            "    Found existing installation: nvidia-cuda-nvrtc-cu12 12.5.82\n",
            "    Uninstalling nvidia-cuda-nvrtc-cu12-12.5.82:\n",
            "      Successfully uninstalled nvidia-cuda-nvrtc-cu12-12.5.82\n",
            "  Attempting uninstall: nvidia-cuda-cupti-cu12\n",
            "    Found existing installation: nvidia-cuda-cupti-cu12 12.5.82\n",
            "    Uninstalling nvidia-cuda-cupti-cu12-12.5.82:\n",
            "      Successfully uninstalled nvidia-cuda-cupti-cu12-12.5.82\n",
            "  Attempting uninstall: nvidia-cublas-cu12\n",
            "    Found existing installation: nvidia-cublas-cu12 12.5.3.2\n",
            "    Uninstalling nvidia-cublas-cu12-12.5.3.2:\n",
            "      Successfully uninstalled nvidia-cublas-cu12-12.5.3.2\n",
            "  Attempting uninstall: nvidia-cusparse-cu12\n",
            "    Found existing installation: nvidia-cusparse-cu12 12.5.1.3\n",
            "    Uninstalling nvidia-cusparse-cu12-12.5.1.3:\n",
            "      Successfully uninstalled nvidia-cusparse-cu12-12.5.1.3\n",
            "  Attempting uninstall: nvidia-cudnn-cu12\n",
            "    Found existing installation: nvidia-cudnn-cu12 9.3.0.75\n",
            "    Uninstalling nvidia-cudnn-cu12-9.3.0.75:\n",
            "      Successfully uninstalled nvidia-cudnn-cu12-9.3.0.75\n",
            "  Attempting uninstall: nvidia-cusolver-cu12\n",
            "    Found existing installation: nvidia-cusolver-cu12 11.6.3.83\n",
            "    Uninstalling nvidia-cusolver-cu12-11.6.3.83:\n",
            "      Successfully uninstalled nvidia-cusolver-cu12-11.6.3.83\n",
            "Successfully installed Pix2Text-1.1.2.3 cnocr-2.3.1 cnstd-1.2.5.2 coloredlogs-15.0.1 datasets-3.4.1 dill-0.3.8 doclayout-yolo-0.0.3 evaluate-0.4.3 humanfriendly-10.0 lightning-utilities-0.14.1 multiprocess-0.70.16 nvidia-cublas-cu12-12.4.5.8 nvidia-cuda-cupti-cu12-12.4.127 nvidia-cuda-nvrtc-cu12-12.4.127 nvidia-cuda-runtime-cu12-12.4.127 nvidia-cudnn-cu12-9.1.0.70 nvidia-cufft-cu12-11.2.1.3 nvidia-curand-cu12-10.3.5.147 nvidia-cusolver-cu12-11.6.1.9 nvidia-cusparse-cu12-12.3.1.170 nvidia-nvjitlink-cu12-12.4.127 onnx-1.17.0 onnxruntime-1.21.0 optimum-1.24.0 pyclipper-1.3.0.post6 pyspellchecker-0.8.2 pytorch-lightning-2.5.0.post0 rapidocr-onnxruntime-1.3.25 thop-0.1.1.post2209072238 torchmetrics-1.6.3 ultralytics-8.3.93 ultralytics-thop-2.0.14 unidecode-1.3.8 xxhash-3.5.0\n"
          ]
        }
      ]
    },
    {
      "cell_type": "code",
      "source": [
        "import os\n",
        "import fitz  # PyMuPDF\n",
        "from pix2text import Pix2Text\n",
        "import google.generativeai as genai"
      ],
      "metadata": {
        "id": "D9f4YrfAuVPK"
      },
      "execution_count": null,
      "outputs": []
    },
    {
      "cell_type": "markdown",
      "source": [
        "## Convert PDFs to Markdowns"
      ],
      "metadata": {
        "id": "qUynGR8_YvMZ"
      }
    },
    {
      "cell_type": "code",
      "execution_count": null,
      "metadata": {
        "colab": {
          "base_uri": "https://localhost:8080/"
        },
        "collapsed": true,
        "id": "O_sbLxmysUrQ",
        "outputId": "8c6e61e2-5880-4dab-c298-f54106b0ca6b"
      },
      "outputs": [
        {
          "output_type": "stream",
          "name": "stdout",
          "text": [
            "\n",
            "0: 1024x672 3 titles, 8 plain texts, 2 abandons, 4007.0ms\n",
            "Speed: 6.9ms preprocess, 4007.0ms inference, 1.2ms postprocess per image at shape (1, 3, 1024, 672)\n",
            "Loading /root/.pix2text/1.1/mfd-onnx/mfd-v20240618.onnx for ONNX Runtime inference...\n",
            "Using ONNX Runtime CPUExecutionProvider\n",
            "\n",
            "WARNING ⚠️ imgsz=[258, 1280] must be multiple of max stride 32, updating to [288, 1280]\n",
            "0: 288x1280 (no detections), 422.8ms\n",
            "Speed: 4.2ms preprocess, 422.8ms inference, 0.7ms postprocess per image at shape (1, 3, 288, 1280)\n"
          ]
        },
        {
          "output_type": "stream",
          "name": "stderr",
          "text": [
            "0it [00:00, ?it/s]\n"
          ]
        },
        {
          "output_type": "stream",
          "name": "stdout",
          "text": [
            "\n",
            "WARNING ⚠️ imgsz=[506, 1280] must be multiple of max stride 32, updating to [512, 1280]\n",
            "0: 512x1280 (no detections), 1142.8ms\n",
            "Speed: 6.2ms preprocess, 1142.8ms inference, 0.9ms postprocess per image at shape (1, 3, 512, 1280)\n"
          ]
        },
        {
          "output_type": "stream",
          "name": "stderr",
          "text": [
            "0it [00:00, ?it/s]\n"
          ]
        },
        {
          "output_type": "stream",
          "name": "stdout",
          "text": [
            "\n",
            "WARNING ⚠️ imgsz=[314, 1280] must be multiple of max stride 32, updating to [320, 1280]\n",
            "0: 320x1280 (no detections), 448.9ms\n",
            "Speed: 4.3ms preprocess, 448.9ms inference, 0.7ms postprocess per image at shape (1, 3, 320, 1280)\n"
          ]
        },
        {
          "output_type": "stream",
          "name": "stderr",
          "text": [
            "0it [00:00, ?it/s]\n"
          ]
        },
        {
          "output_type": "stream",
          "name": "stdout",
          "text": [
            "\n",
            "WARNING ⚠️ imgsz=[391, 1280] must be multiple of max stride 32, updating to [416, 1280]\n",
            "0: 416x1280 (no detections), 602.3ms\n",
            "Speed: 4.8ms preprocess, 602.3ms inference, 0.7ms postprocess per image at shape (1, 3, 416, 1280)\n"
          ]
        },
        {
          "output_type": "stream",
          "name": "stderr",
          "text": [
            "0it [00:00, ?it/s]\n"
          ]
        },
        {
          "output_type": "stream",
          "name": "stdout",
          "text": [
            "\n",
            "WARNING ⚠️ imgsz=[441, 1280] must be multiple of max stride 32, updating to [448, 1280]\n",
            "0: 448x1280 3 embeddings, 648.3ms\n",
            "Speed: 6.4ms preprocess, 648.3ms inference, 1.2ms postprocess per image at shape (1, 3, 448, 1280)\n"
          ]
        },
        {
          "output_type": "stream",
          "name": "stderr",
          "text": [
            "100%|██████████| 3/3 [00:02<00:00,  1.28it/s]\n"
          ]
        },
        {
          "output_type": "stream",
          "name": "stdout",
          "text": [
            "\n",
            "WARNING ⚠️ imgsz=[245, 1280] must be multiple of max stride 32, updating to [256, 1280]\n",
            "0: 256x1280 (no detections), 373.4ms\n",
            "Speed: 5.9ms preprocess, 373.4ms inference, 0.7ms postprocess per image at shape (1, 3, 256, 1280)\n"
          ]
        },
        {
          "output_type": "stream",
          "name": "stderr",
          "text": [
            "0it [00:00, ?it/s]\n"
          ]
        },
        {
          "output_type": "stream",
          "name": "stdout",
          "text": [
            "\n",
            "0: 384x1280 (no detections), 545.7ms\n",
            "Speed: 4.7ms preprocess, 545.7ms inference, 1.0ms postprocess per image at shape (1, 3, 384, 1280)\n"
          ]
        },
        {
          "output_type": "stream",
          "name": "stderr",
          "text": [
            "0it [00:00, ?it/s]\n",
            "WARNING:py.warnings:/usr/local/lib/python3.11/dist-packages/numpy/_core/fromnumeric.py:3596: RuntimeWarning: Mean of empty slice.\n",
            "  return _methods._mean(a, axis=axis, dtype=dtype,\n",
            "\n",
            "WARNING:py.warnings:/usr/local/lib/python3.11/dist-packages/numpy/_core/_methods.py:138: RuntimeWarning: invalid value encountered in scalar divide\n",
            "  ret = ret.dtype.type(ret / rcount)\n",
            "\n"
          ]
        },
        {
          "output_type": "stream",
          "name": "stdout",
          "text": [
            "\n",
            "WARNING ⚠️ imgsz=[2011, 1280] must be multiple of max stride 32, updating to [2016, 1280]\n",
            "0: 2016x1280 (no detections), 3205.3ms\n",
            "Speed: 19.5ms preprocess, 3205.3ms inference, 1.3ms postprocess per image at shape (1, 3, 2016, 1280)\n"
          ]
        },
        {
          "output_type": "stream",
          "name": "stderr",
          "text": [
            "0it [00:00, ?it/s]\n"
          ]
        },
        {
          "output_type": "stream",
          "name": "stdout",
          "text": [
            "Saved Markdown to output/2099/page_1.md\n",
            "\n",
            "0: 1024x672 3 titles, 9 plain texts, 6 abandons, 1 figure, 1 figure_caption, 3989.0ms\n",
            "Speed: 8.3ms preprocess, 3989.0ms inference, 1.6ms postprocess per image at shape (1, 3, 1024, 672)\n",
            "Loading /root/.pix2text/1.1/mfd-onnx/mfd-v20240618.onnx for ONNX Runtime inference...\n",
            "Using ONNX Runtime CPUExecutionProvider\n",
            "\n",
            "WARNING ⚠️ imgsz=[601, 1280] must be multiple of max stride 32, updating to [608, 1280]\n",
            "0: 608x1280 (no detections), 1411.0ms\n",
            "Speed: 12.8ms preprocess, 1411.0ms inference, 1.1ms postprocess per image at shape (1, 3, 608, 1280)\n"
          ]
        },
        {
          "output_type": "stream",
          "name": "stderr",
          "text": [
            "0it [00:00, ?it/s]\n"
          ]
        },
        {
          "output_type": "stream",
          "name": "stdout",
          "text": [
            "\n",
            "WARNING ⚠️ imgsz=[467, 1280] must be multiple of max stride 32, updating to [480, 1280]\n",
            "0: 480x1280 1 isolated, 692.0ms\n",
            "Speed: 5.9ms preprocess, 692.0ms inference, 1.2ms postprocess per image at shape (1, 3, 480, 1280)\n"
          ]
        },
        {
          "output_type": "stream",
          "name": "stderr",
          "text": [
            "100%|██████████| 1/1 [00:04<00:00,  4.16s/it]\n"
          ]
        },
        {
          "output_type": "stream",
          "name": "stdout",
          "text": [
            "\n",
            "WARNING ⚠️ imgsz=[533, 1280] must be multiple of max stride 32, updating to [544, 1280]\n",
            "0: 544x1280 1 embedding, 1 isolated, 794.4ms\n",
            "Speed: 6.3ms preprocess, 794.4ms inference, 1.3ms postprocess per image at shape (1, 3, 544, 1280)\n"
          ]
        },
        {
          "output_type": "stream",
          "name": "stderr",
          "text": [
            "100%|██████████| 1/1 [00:01<00:00,  1.13s/it]\n"
          ]
        },
        {
          "output_type": "stream",
          "name": "stdout",
          "text": [
            "\n",
            "WARNING ⚠️ imgsz=[723, 1280] must be multiple of max stride 32, updating to [736, 1280]\n",
            "0: 736x1280 (no detections), 1066.7ms\n",
            "Speed: 7.9ms preprocess, 1066.7ms inference, 0.8ms postprocess per image at shape (1, 3, 736, 1280)\n"
          ]
        },
        {
          "output_type": "stream",
          "name": "stderr",
          "text": [
            "0it [00:00, ?it/s]\n"
          ]
        },
        {
          "output_type": "stream",
          "name": "stdout",
          "text": [
            "\n",
            "WARNING ⚠️ imgsz=[1924, 1280] must be multiple of max stride 32, updating to [1952, 1280]\n",
            "0: 1952x1280 (no detections), 3390.9ms\n",
            "Speed: 20.3ms preprocess, 3390.9ms inference, 1.7ms postprocess per image at shape (1, 3, 1952, 1280)\n"
          ]
        },
        {
          "output_type": "stream",
          "name": "stderr",
          "text": [
            "0it [00:00, ?it/s]\n"
          ]
        },
        {
          "output_type": "stream",
          "name": "stdout",
          "text": [
            "\n",
            "WARNING ⚠️ imgsz=[611, 1280] must be multiple of max stride 32, updating to [640, 1280]\n",
            "0: 640x1280 (no detections), 933.1ms\n",
            "Speed: 7.4ms preprocess, 933.1ms inference, 0.8ms postprocess per image at shape (1, 3, 640, 1280)\n"
          ]
        },
        {
          "output_type": "stream",
          "name": "stderr",
          "text": [
            "0it [00:00, ?it/s]\n"
          ]
        },
        {
          "output_type": "stream",
          "name": "stdout",
          "text": [
            "\n",
            "WARNING ⚠️ imgsz=[1907, 1280] must be multiple of max stride 32, updating to [1920, 1280]\n",
            "0: 1920x1280 3 embeddings, 2948.9ms\n",
            "Speed: 19.7ms preprocess, 2948.9ms inference, 1.7ms postprocess per image at shape (1, 3, 1920, 1280)\n"
          ]
        },
        {
          "output_type": "stream",
          "name": "stderr",
          "text": [
            "100%|██████████| 3/3 [00:01<00:00,  1.67it/s]\n"
          ]
        },
        {
          "output_type": "stream",
          "name": "stdout",
          "text": [
            "\n",
            "WARNING ⚠️ imgsz=[411, 1280] must be multiple of max stride 32, updating to [416, 1280]\n",
            "0: 416x1280 (no detections), 602.8ms\n",
            "Speed: 4.9ms preprocess, 602.8ms inference, 0.7ms postprocess per image at shape (1, 3, 416, 1280)\n"
          ]
        },
        {
          "output_type": "stream",
          "name": "stderr",
          "text": [
            "0it [00:00, ?it/s]\n"
          ]
        },
        {
          "output_type": "stream",
          "name": "stdout",
          "text": [
            "\n",
            "WARNING ⚠️ imgsz=[498, 1280] must be multiple of max stride 32, updating to [512, 1280]\n",
            "0: 512x1280 (no detections), 2692.0ms\n",
            "Speed: 7.7ms preprocess, 2692.0ms inference, 3.8ms postprocess per image at shape (1, 3, 512, 1280)\n"
          ]
        },
        {
          "output_type": "stream",
          "name": "stderr",
          "text": [
            "0it [00:00, ?it/s]\n"
          ]
        },
        {
          "output_type": "stream",
          "name": "stdout",
          "text": [
            "\n",
            "WARNING ⚠️ imgsz=[2011, 1280] must be multiple of max stride 32, updating to [2016, 1280]\n",
            "0: 2016x1280 (no detections), 3123.2ms\n",
            "Speed: 21.1ms preprocess, 3123.2ms inference, 1.4ms postprocess per image at shape (1, 3, 2016, 1280)\n"
          ]
        },
        {
          "output_type": "stream",
          "name": "stderr",
          "text": [
            "0it [00:00, ?it/s]\n"
          ]
        },
        {
          "output_type": "stream",
          "name": "stdout",
          "text": [
            "Saved Markdown to output/2099/page_2.md\n",
            "\n",
            "0: 1024x672 1 title, 3 plain texts, 7 abandons, 1 figure, 1 figure_caption, 1 table, 1 table_caption, 1 table_footnote, 4582.0ms\n",
            "Speed: 14.4ms preprocess, 4582.0ms inference, 1.3ms postprocess per image at shape (1, 3, 1024, 672)\n",
            "Loading /root/.pix2text/1.1/mfd-onnx/mfd-v20240618.onnx for ONNX Runtime inference...\n",
            "Using ONNX Runtime CPUExecutionProvider\n",
            "\n",
            "WARNING ⚠️ imgsz=[425, 1280] must be multiple of max stride 32, updating to [448, 1280]\n",
            "0: 448x1280 (no detections), 635.8ms\n",
            "Speed: 7.8ms preprocess, 635.8ms inference, 0.9ms postprocess per image at shape (1, 3, 448, 1280)\n"
          ]
        },
        {
          "output_type": "stream",
          "name": "stderr",
          "text": [
            "0it [00:00, ?it/s]\n"
          ]
        },
        {
          "output_type": "stream",
          "name": "stdout",
          "text": [
            "\n",
            "WARNING ⚠️ imgsz=[872, 1280] must be multiple of max stride 32, updating to [896, 1280]\n",
            "0: 896x1280 3 embeddings, 1374.8ms\n",
            "Speed: 11.6ms preprocess, 1374.8ms inference, 1.6ms postprocess per image at shape (1, 3, 896, 1280)\n"
          ]
        },
        {
          "output_type": "stream",
          "name": "stderr",
          "text": [
            "100%|██████████| 3/3 [00:01<00:00,  1.65it/s]\n"
          ]
        },
        {
          "output_type": "stream",
          "name": "stdout",
          "text": [
            "\n",
            "0: 640x1280 2 embeddings, 1207.5ms\n",
            "Speed: 8.2ms preprocess, 1207.5ms inference, 1.7ms postprocess per image at shape (1, 3, 640, 1280)\n"
          ]
        },
        {
          "output_type": "stream",
          "name": "stderr",
          "text": [
            "100%|██████████| 2/2 [00:01<00:00,  1.07it/s]\n"
          ]
        },
        {
          "output_type": "stream",
          "name": "stdout",
          "text": [
            "\n",
            "WARNING ⚠️ imgsz=[272, 1280] must be multiple of max stride 32, updating to [288, 1280]\n",
            "0: 288x1280 (no detections), 396.4ms\n",
            "Speed: 4.1ms preprocess, 396.4ms inference, 0.8ms postprocess per image at shape (1, 3, 288, 1280)\n"
          ]
        },
        {
          "output_type": "stream",
          "name": "stderr",
          "text": [
            "0it [00:00, ?it/s]\n"
          ]
        },
        {
          "output_type": "stream",
          "name": "stdout",
          "text": [
            "\n",
            "WARNING ⚠️ imgsz=[312, 1280] must be multiple of max stride 32, updating to [320, 1280]\n",
            "0: 320x1280 2 embeddings, 449.2ms\n",
            "Speed: 4.9ms preprocess, 449.2ms inference, 1.2ms postprocess per image at shape (1, 3, 320, 1280)\n"
          ]
        },
        {
          "output_type": "stream",
          "name": "stderr",
          "text": [
            "100%|██████████| 2/2 [00:01<00:00,  1.53it/s]\n"
          ]
        },
        {
          "output_type": "stream",
          "name": "stdout",
          "text": [
            "\n",
            "WARNING ⚠️ imgsz=[2011, 1280] must be multiple of max stride 32, updating to [2016, 1280]\n",
            "0: 2016x1280 (no detections), 3255.4ms\n",
            "Speed: 21.0ms preprocess, 3255.4ms inference, 1.6ms postprocess per image at shape (1, 3, 2016, 1280)\n"
          ]
        },
        {
          "output_type": "stream",
          "name": "stderr",
          "text": [
            "0it [00:00, ?it/s]\n"
          ]
        },
        {
          "output_type": "stream",
          "name": "stdout",
          "text": [
            "Saved Markdown to output/2099/page_3.md\n",
            "\n",
            "0: 1024x672 6 plain texts, 7 abandons, 1 figure, 2 figure_captions, 3 isolate_formulas, 3 formula_captions, 3970.5ms\n",
            "Speed: 6.6ms preprocess, 3970.5ms inference, 1.3ms postprocess per image at shape (1, 3, 1024, 672)\n",
            "Loading /root/.pix2text/1.1/mfd-onnx/mfd-v20240618.onnx for ONNX Runtime inference...\n",
            "Using ONNX Runtime CPUExecutionProvider\n",
            "\n",
            "WARNING ⚠️ imgsz=[593, 1280] must be multiple of max stride 32, updating to [608, 1280]\n",
            "0: 608x1280 4 embeddings, 867.7ms\n",
            "Speed: 7.5ms preprocess, 867.7ms inference, 1.3ms postprocess per image at shape (1, 3, 608, 1280)\n"
          ]
        },
        {
          "output_type": "stream",
          "name": "stderr",
          "text": [
            "100%|██████████| 4/4 [00:02<00:00,  1.41it/s]\n",
            "100%|██████████| 1/1 [00:02<00:00,  2.69s/it]\n",
            "100%|██████████| 1/1 [00:03<00:00,  3.40s/it]\n"
          ]
        },
        {
          "output_type": "stream",
          "name": "stdout",
          "text": [
            "\n",
            "WARNING ⚠️ imgsz=[2229, 1280] must be multiple of max stride 32, updating to [2240, 1280]\n",
            "0: 2240x1280 15 embeddings, 3581.6ms\n",
            "Speed: 21.5ms preprocess, 3581.6ms inference, 4.5ms postprocess per image at shape (1, 3, 2240, 1280)\n"
          ]
        },
        {
          "output_type": "stream",
          "name": "stderr",
          "text": [
            "100%|██████████| 14/14 [00:10<00:00,  1.27it/s]\n"
          ]
        },
        {
          "output_type": "stream",
          "name": "stdout",
          "text": [
            "\n",
            "WARNING ⚠️ imgsz=[595, 1280] must be multiple of max stride 32, updating to [608, 1280]\n",
            "0: 608x1280 2 embeddings, 868.3ms\n",
            "Speed: 8.4ms preprocess, 868.3ms inference, 1.3ms postprocess per image at shape (1, 3, 608, 1280)\n"
          ]
        },
        {
          "output_type": "stream",
          "name": "stderr",
          "text": [
            "100%|██████████| 2/2 [00:02<00:00,  1.03s/it]\n"
          ]
        },
        {
          "output_type": "stream",
          "name": "stdout",
          "text": [
            "\n",
            "WARNING ⚠️ imgsz=[996, 1280] must be multiple of max stride 32, updating to [1024, 1280]\n",
            "0: 1024x1280 8 embeddings, 1954.6ms\n",
            "Speed: 22.0ms preprocess, 1954.6ms inference, 1.5ms postprocess per image at shape (1, 3, 1024, 1280)\n"
          ]
        },
        {
          "output_type": "stream",
          "name": "stderr",
          "text": [
            "100%|██████████| 8/8 [00:05<00:00,  1.45it/s]\n"
          ]
        },
        {
          "output_type": "stream",
          "name": "stdout",
          "text": [
            "\n",
            "WARNING ⚠️ imgsz=[445, 1280] must be multiple of max stride 32, updating to [448, 1280]\n",
            "0: 448x1280 1 embedding, 641.3ms\n",
            "Speed: 5.9ms preprocess, 641.3ms inference, 1.2ms postprocess per image at shape (1, 3, 448, 1280)\n"
          ]
        },
        {
          "output_type": "stream",
          "name": "stderr",
          "text": [
            "100%|██████████| 1/1 [00:00<00:00,  1.69it/s]\n"
          ]
        },
        {
          "output_type": "stream",
          "name": "stdout",
          "text": [
            "\n",
            "WARNING ⚠️ imgsz=[479, 1280] must be multiple of max stride 32, updating to [480, 1280]\n",
            "0: 480x1280 1 embedding, 682.0ms\n",
            "Speed: 6.1ms preprocess, 682.0ms inference, 1.4ms postprocess per image at shape (1, 3, 480, 1280)\n"
          ]
        },
        {
          "output_type": "stream",
          "name": "stderr",
          "text": [
            "100%|██████████| 1/1 [00:00<00:00,  1.16it/s]\n"
          ]
        },
        {
          "output_type": "stream",
          "name": "stdout",
          "text": [
            "\n",
            "WARNING ⚠️ imgsz=[458, 1280] must be multiple of max stride 32, updating to [480, 1280]\n",
            "0: 480x1280 1 embedding, 914.7ms\n",
            "Speed: 9.0ms preprocess, 914.7ms inference, 1.3ms postprocess per image at shape (1, 3, 480, 1280)\n"
          ]
        },
        {
          "output_type": "stream",
          "name": "stderr",
          "text": [
            "100%|██████████| 1/1 [00:00<00:00,  1.79it/s]\n",
            "100%|██████████| 1/1 [00:01<00:00,  1.85s/it]\n"
          ]
        },
        {
          "output_type": "stream",
          "name": "stdout",
          "text": [
            "\n",
            "WARNING ⚠️ imgsz=[442, 1280] must be multiple of max stride 32, updating to [448, 1280]\n",
            "0: 448x1280 1 embedding, 637.7ms\n",
            "Speed: 5.2ms preprocess, 637.7ms inference, 1.2ms postprocess per image at shape (1, 3, 448, 1280)\n"
          ]
        },
        {
          "output_type": "stream",
          "name": "stderr",
          "text": [
            "100%|██████████| 1/1 [00:00<00:00,  1.77it/s]\n"
          ]
        },
        {
          "output_type": "stream",
          "name": "stdout",
          "text": [
            "\n",
            "WARNING ⚠️ imgsz=[2011, 1280] must be multiple of max stride 32, updating to [2016, 1280]\n",
            "0: 2016x1280 (no detections), 3126.9ms\n",
            "Speed: 21.5ms preprocess, 3126.9ms inference, 1.5ms postprocess per image at shape (1, 3, 2016, 1280)\n"
          ]
        },
        {
          "output_type": "stream",
          "name": "stderr",
          "text": [
            "0it [00:00, ?it/s]\n"
          ]
        },
        {
          "output_type": "stream",
          "name": "stdout",
          "text": [
            "Saved Markdown to output/2099/page_4.md\n",
            "\n",
            "0: 1024x672 2 titles, 7 plain texts, 7 abandons, 1 isolate_formula, 1 formula_caption, 3897.8ms\n",
            "Speed: 7.8ms preprocess, 3897.8ms inference, 1.2ms postprocess per image at shape (1, 3, 1024, 672)\n",
            "Loading /root/.pix2text/1.1/mfd-onnx/mfd-v20240618.onnx for ONNX Runtime inference...\n",
            "Using ONNX Runtime CPUExecutionProvider\n",
            "\n",
            "WARNING ⚠️ imgsz=[756, 1280] must be multiple of max stride 32, updating to [768, 1280]\n",
            "0: 768x1280 2 embeddings, 1186.8ms\n",
            "Speed: 10.0ms preprocess, 1186.8ms inference, 1.4ms postprocess per image at shape (1, 3, 768, 1280)\n"
          ]
        },
        {
          "output_type": "stream",
          "name": "stderr",
          "text": [
            "100%|██████████| 2/2 [00:01<00:00,  1.43it/s]\n",
            "100%|██████████| 1/1 [00:03<00:00,  3.29s/it]\n"
          ]
        },
        {
          "output_type": "stream",
          "name": "stdout",
          "text": [
            "\n",
            "WARNING ⚠️ imgsz=[616, 1280] must be multiple of max stride 32, updating to [640, 1280]\n",
            "0: 640x1280 7 embeddings, 1007.3ms\n",
            "Speed: 8.4ms preprocess, 1007.3ms inference, 1.3ms postprocess per image at shape (1, 3, 640, 1280)\n"
          ]
        },
        {
          "output_type": "stream",
          "name": "stderr",
          "text": [
            "100%|██████████| 7/7 [00:06<00:00,  1.15it/s]\n"
          ]
        },
        {
          "output_type": "stream",
          "name": "stdout",
          "text": [
            "\n",
            "WARNING ⚠️ imgsz=[1172, 1280] must be multiple of max stride 32, updating to [1184, 1280]\n",
            "0: 1184x1280 5 embeddings, 1844.1ms\n",
            "Speed: 12.8ms preprocess, 1844.1ms inference, 1.5ms postprocess per image at shape (1, 3, 1184, 1280)\n"
          ]
        },
        {
          "output_type": "stream",
          "name": "stderr",
          "text": [
            "100%|██████████| 5/5 [00:04<00:00,  1.23it/s]\n"
          ]
        },
        {
          "output_type": "stream",
          "name": "stdout",
          "text": [
            "\n",
            "WARNING ⚠️ imgsz=[705, 1280] must be multiple of max stride 32, updating to [736, 1280]\n",
            "0: 736x1280 (no detections), 1122.6ms\n",
            "Speed: 9.3ms preprocess, 1122.6ms inference, 0.9ms postprocess per image at shape (1, 3, 736, 1280)\n"
          ]
        },
        {
          "output_type": "stream",
          "name": "stderr",
          "text": [
            "0it [00:00, ?it/s]\n"
          ]
        },
        {
          "output_type": "stream",
          "name": "stdout",
          "text": [
            "\n",
            "WARNING ⚠️ imgsz=[818, 1280] must be multiple of max stride 32, updating to [832, 1280]\n",
            "0: 832x1280 (no detections), 1280.1ms\n",
            "Speed: 9.6ms preprocess, 1280.1ms inference, 0.9ms postprocess per image at shape (1, 3, 832, 1280)\n"
          ]
        },
        {
          "output_type": "stream",
          "name": "stderr",
          "text": [
            "0it [00:00, ?it/s]\n"
          ]
        },
        {
          "output_type": "stream",
          "name": "stdout",
          "text": [
            "\n",
            "WARNING ⚠️ imgsz=[611, 1280] must be multiple of max stride 32, updating to [640, 1280]\n",
            "0: 640x1280 2 embeddings, 957.1ms\n",
            "Speed: 8.1ms preprocess, 957.1ms inference, 1.6ms postprocess per image at shape (1, 3, 640, 1280)\n"
          ]
        },
        {
          "output_type": "stream",
          "name": "stderr",
          "text": [
            "100%|██████████| 2/2 [00:01<00:00,  1.62it/s]\n"
          ]
        },
        {
          "output_type": "stream",
          "name": "stdout",
          "text": [
            "\n",
            "WARNING ⚠️ imgsz=[1755, 1280] must be multiple of max stride 32, updating to [1760, 1280]\n",
            "0: 1760x1280 11 embeddings, 3626.9ms\n",
            "Speed: 23.5ms preprocess, 3626.9ms inference, 1.9ms postprocess per image at shape (1, 3, 1760, 1280)\n"
          ]
        },
        {
          "output_type": "stream",
          "name": "stderr",
          "text": [
            "100%|██████████| 9/9 [00:09<00:00,  1.01s/it]\n"
          ]
        },
        {
          "output_type": "stream",
          "name": "stdout",
          "text": [
            "\n",
            "WARNING ⚠️ imgsz=[2011, 1280] must be multiple of max stride 32, updating to [2016, 1280]\n",
            "0: 2016x1280 (no detections), 3230.7ms\n",
            "Speed: 30.4ms preprocess, 3230.7ms inference, 1.5ms postprocess per image at shape (1, 3, 2016, 1280)\n"
          ]
        },
        {
          "output_type": "stream",
          "name": "stderr",
          "text": [
            "0it [00:00, ?it/s]\n"
          ]
        },
        {
          "output_type": "stream",
          "name": "stdout",
          "text": [
            "Saved Markdown to output/2099/page_5.md\n",
            "Completed processing 2099.pdf\n",
            "\n",
            "0: 1024x800 4 titles, 7 plain texts, 1 isolate_formula, 1 formula_caption, 5236.7ms\n",
            "Speed: 7.9ms preprocess, 5236.7ms inference, 1.8ms postprocess per image at shape (1, 3, 1024, 800)\n",
            "Loading /root/.pix2text/1.1/mfd-onnx/mfd-v20240618.onnx for ONNX Runtime inference...\n",
            "Using ONNX Runtime CPUExecutionProvider\n",
            "\n",
            "WARNING ⚠️ imgsz=[414, 1280] must be multiple of max stride 32, updating to [416, 1280]\n",
            "0: 416x1280 (no detections), 834.3ms\n",
            "Speed: 6.3ms preprocess, 834.3ms inference, 0.8ms postprocess per image at shape (1, 3, 416, 1280)\n"
          ]
        },
        {
          "output_type": "stream",
          "name": "stderr",
          "text": [
            "0it [00:00, ?it/s]\n"
          ]
        },
        {
          "output_type": "stream",
          "name": "stdout",
          "text": [
            "\n",
            "WARNING ⚠️ imgsz=[276, 1280] must be multiple of max stride 32, updating to [288, 1280]\n",
            "0: 288x1280 2 embeddings, 409.4ms\n",
            "Speed: 4.2ms preprocess, 409.4ms inference, 1.2ms postprocess per image at shape (1, 3, 288, 1280)\n"
          ]
        },
        {
          "output_type": "stream",
          "name": "stderr",
          "text": [
            "100%|██████████| 2/2 [00:01<00:00,  1.48it/s]\n"
          ]
        },
        {
          "output_type": "stream",
          "name": "stdout",
          "text": [
            "\n",
            "WARNING ⚠️ imgsz=[596, 1280] must be multiple of max stride 32, updating to [608, 1280]\n",
            "0: 608x1280 (no detections), 920.4ms\n",
            "Speed: 7.5ms preprocess, 920.4ms inference, 0.9ms postprocess per image at shape (1, 3, 608, 1280)\n"
          ]
        },
        {
          "output_type": "stream",
          "name": "stderr",
          "text": [
            "0it [00:00, ?it/s]\n"
          ]
        },
        {
          "output_type": "stream",
          "name": "stdout",
          "text": [
            "\n",
            "WARNING ⚠️ imgsz=[459, 1280] must be multiple of max stride 32, updating to [480, 1280]\n",
            "0: 480x1280 (no detections), 693.1ms\n",
            "Speed: 5.2ms preprocess, 693.1ms inference, 0.9ms postprocess per image at shape (1, 3, 480, 1280)\n"
          ]
        },
        {
          "output_type": "stream",
          "name": "stderr",
          "text": [
            "0it [00:00, ?it/s]\n"
          ]
        },
        {
          "output_type": "stream",
          "name": "stdout",
          "text": [
            "\n",
            "WARNING ⚠️ imgsz=[580, 1280] must be multiple of max stride 32, updating to [608, 1280]\n",
            "0: 608x1280 (no detections), 1433.8ms\n",
            "Speed: 9.2ms preprocess, 1433.8ms inference, 1.0ms postprocess per image at shape (1, 3, 608, 1280)\n"
          ]
        },
        {
          "output_type": "stream",
          "name": "stderr",
          "text": [
            "0it [00:00, ?it/s]\n"
          ]
        },
        {
          "output_type": "stream",
          "name": "stdout",
          "text": [
            "\n",
            "WARNING ⚠️ imgsz=[351, 1280] must be multiple of max stride 32, updating to [352, 1280]\n",
            "0: 352x1280 (no detections), 495.9ms\n",
            "Speed: 4.1ms preprocess, 495.9ms inference, 0.7ms postprocess per image at shape (1, 3, 352, 1280)\n"
          ]
        },
        {
          "output_type": "stream",
          "name": "stderr",
          "text": [
            "0it [00:00, ?it/s]\n",
            "100%|██████████| 1/1 [00:01<00:00,  1.36s/it]\n"
          ]
        },
        {
          "output_type": "stream",
          "name": "stdout",
          "text": [
            "\n",
            "WARNING ⚠️ imgsz=[264, 1280] must be multiple of max stride 32, updating to [288, 1280]\n",
            "0: 288x1280 3 embeddings, 412.4ms\n",
            "Speed: 3.6ms preprocess, 412.4ms inference, 1.2ms postprocess per image at shape (1, 3, 288, 1280)\n"
          ]
        },
        {
          "output_type": "stream",
          "name": "stderr",
          "text": [
            "100%|██████████| 2/2 [00:02<00:00,  1.18s/it]\n"
          ]
        },
        {
          "output_type": "stream",
          "name": "stdout",
          "text": [
            "\n",
            "WARNING ⚠️ imgsz=[1656, 1280] must be multiple of max stride 32, updating to [1664, 1280]\n",
            "0: 1664x1280 (no detections), 2693.1ms\n",
            "Speed: 17.6ms preprocess, 2693.1ms inference, 1.3ms postprocess per image at shape (1, 3, 1664, 1280)\n"
          ]
        },
        {
          "output_type": "stream",
          "name": "stderr",
          "text": [
            "0it [00:00, ?it/s]\n"
          ]
        },
        {
          "output_type": "stream",
          "name": "stdout",
          "text": [
            "Saved Markdown to output/2073/page_1.md\n",
            "\n",
            "0: 1024x800 1 title, 6 plain texts, 4 isolate_formulas, 4 formula_captions, 4858.9ms\n",
            "Speed: 7.6ms preprocess, 4858.9ms inference, 1.7ms postprocess per image at shape (1, 3, 1024, 800)\n",
            "Loading /root/.pix2text/1.1/mfd-onnx/mfd-v20240618.onnx for ONNX Runtime inference...\n",
            "Using ONNX Runtime CPUExecutionProvider\n",
            "\n",
            "WARNING ⚠️ imgsz=[309, 1280] must be multiple of max stride 32, updating to [320, 1280]\n",
            "0: 320x1280 9 embeddings, 754.3ms\n",
            "Speed: 5.4ms preprocess, 754.3ms inference, 1.6ms postprocess per image at shape (1, 3, 320, 1280)\n"
          ]
        },
        {
          "output_type": "stream",
          "name": "stderr",
          "text": [
            "100%|██████████| 9/9 [00:07<00:00,  1.15it/s]\n"
          ]
        },
        {
          "output_type": "stream",
          "name": "stdout",
          "text": [
            "\n",
            "WARNING ⚠️ imgsz=[285, 1280] must be multiple of max stride 32, updating to [288, 1280]\n",
            "0: 288x1280 2 embeddings, 403.8ms\n",
            "Speed: 3.4ms preprocess, 403.8ms inference, 1.2ms postprocess per image at shape (1, 3, 288, 1280)\n"
          ]
        },
        {
          "output_type": "stream",
          "name": "stderr",
          "text": [
            "100%|██████████| 2/2 [00:02<00:00,  1.11s/it]\n"
          ]
        },
        {
          "output_type": "stream",
          "name": "stdout",
          "text": [
            "\n",
            "WARNING ⚠️ imgsz=[283, 1280] must be multiple of max stride 32, updating to [288, 1280]\n",
            "0: 288x1280 (no detections), 405.4ms\n",
            "Speed: 5.0ms preprocess, 405.4ms inference, 0.8ms postprocess per image at shape (1, 3, 288, 1280)\n"
          ]
        },
        {
          "output_type": "stream",
          "name": "stderr",
          "text": [
            "0it [00:00, ?it/s]\n",
            "100%|██████████| 1/1 [00:03<00:00,  3.03s/it]\n"
          ]
        },
        {
          "output_type": "stream",
          "name": "stdout",
          "text": [
            "\n",
            "WARNING ⚠️ imgsz=[244, 1280] must be multiple of max stride 32, updating to [256, 1280]\n",
            "0: 256x1280 2 embeddings, 358.4ms\n",
            "Speed: 4.0ms preprocess, 358.4ms inference, 1.1ms postprocess per image at shape (1, 3, 256, 1280)\n"
          ]
        },
        {
          "output_type": "stream",
          "name": "stderr",
          "text": [
            "100%|██████████| 2/2 [00:01<00:00,  1.47it/s]\n",
            "100%|██████████| 1/1 [00:23<00:00, 23.36s/it]\n",
            "100%|██████████| 1/1 [00:11<00:00, 11.77s/it]\n"
          ]
        },
        {
          "output_type": "stream",
          "name": "stdout",
          "text": [
            "\n",
            "WARNING ⚠️ imgsz=[376, 1280] must be multiple of max stride 32, updating to [384, 1280]\n",
            "0: 384x1280 3 embeddings, 557.1ms\n",
            "Speed: 6.5ms preprocess, 557.1ms inference, 1.2ms postprocess per image at shape (1, 3, 384, 1280)\n"
          ]
        },
        {
          "output_type": "stream",
          "name": "stderr",
          "text": [
            "100%|██████████| 3/3 [00:02<00:00,  1.27it/s]\n"
          ]
        },
        {
          "output_type": "stream",
          "name": "stdout",
          "text": [
            "\n",
            "WARNING ⚠️ imgsz=[295, 1280] must be multiple of max stride 32, updating to [320, 1280]\n",
            "0: 320x1280 1 embedding, 455.7ms\n",
            "Speed: 5.6ms preprocess, 455.7ms inference, 1.1ms postprocess per image at shape (1, 3, 320, 1280)\n"
          ]
        },
        {
          "output_type": "stream",
          "name": "stderr",
          "text": [
            "100%|██████████| 1/1 [00:00<00:00,  1.45it/s]\n",
            "100%|██████████| 1/1 [00:03<00:00,  3.24s/it]\n"
          ]
        },
        {
          "output_type": "stream",
          "name": "stdout",
          "text": [
            "\n",
            "WARNING ⚠️ imgsz=[1656, 1280] must be multiple of max stride 32, updating to [1664, 1280]\n",
            "0: 1664x1280 3 isolateds, 2670.3ms\n",
            "Speed: 17.1ms preprocess, 2670.3ms inference, 1.7ms postprocess per image at shape (1, 3, 1664, 1280)\n"
          ]
        },
        {
          "output_type": "stream",
          "name": "stderr",
          "text": [
            "100%|██████████| 2/2 [00:51<00:00, 25.73s/it]\n"
          ]
        },
        {
          "output_type": "stream",
          "name": "stdout",
          "text": [
            "Saved Markdown to output/2073/page_2.md\n",
            "\n",
            "0: 1024x800 9 plain texts, 7 isolate_formulas, 8 formula_captions, 6593.4ms\n",
            "Speed: 8.5ms preprocess, 6593.4ms inference, 1.1ms postprocess per image at shape (1, 3, 1024, 800)\n",
            "Loading /root/.pix2text/1.1/mfd-onnx/mfd-v20240618.onnx for ONNX Runtime inference...\n",
            "Using ONNX Runtime CPUExecutionProvider\n",
            "\n",
            "WARNING ⚠️ imgsz=[257, 1280] must be multiple of max stride 32, updating to [288, 1280]\n",
            "0: 288x1280 6 embeddings, 418.9ms\n",
            "Speed: 4.3ms preprocess, 418.9ms inference, 1.1ms postprocess per image at shape (1, 3, 288, 1280)\n"
          ]
        },
        {
          "output_type": "stream",
          "name": "stderr",
          "text": [
            "100%|██████████| 6/6 [00:04<00:00,  1.28it/s]\n"
          ]
        },
        {
          "output_type": "stream",
          "name": "stdout",
          "text": [
            "\n",
            "WARNING ⚠️ imgsz=[279, 1280] must be multiple of max stride 32, updating to [288, 1280]\n",
            "0: 288x1280 4 embeddings, 418.5ms\n",
            "Speed: 4.6ms preprocess, 418.5ms inference, 1.1ms postprocess per image at shape (1, 3, 288, 1280)\n"
          ]
        },
        {
          "output_type": "stream",
          "name": "stderr",
          "text": [
            "100%|██████████| 4/4 [00:03<00:00,  1.07it/s]\n"
          ]
        },
        {
          "output_type": "stream",
          "name": "stdout",
          "text": [
            "\n",
            "WARNING ⚠️ imgsz=[274, 1280] must be multiple of max stride 32, updating to [288, 1280]\n",
            "0: 288x1280 5 embeddings, 397.5ms\n",
            "Speed: 4.1ms preprocess, 397.5ms inference, 1.1ms postprocess per image at shape (1, 3, 288, 1280)\n"
          ]
        },
        {
          "output_type": "stream",
          "name": "stderr",
          "text": [
            "100%|██████████| 5/5 [00:04<00:00,  1.22it/s]\n"
          ]
        },
        {
          "output_type": "stream",
          "name": "stdout",
          "text": [
            "\n",
            "WARNING ⚠️ imgsz=[1045, 1280] must be multiple of max stride 32, updating to [1056, 1280]\n",
            "0: 1056x1280 1 isolated, 1948.9ms\n",
            "Speed: 16.6ms preprocess, 1948.9ms inference, 1.4ms postprocess per image at shape (1, 3, 1056, 1280)\n"
          ]
        },
        {
          "output_type": "stream",
          "name": "stderr",
          "text": [
            "100%|██████████| 1/1 [00:00<00:00,  1.29it/s]\n",
            "100%|██████████| 1/1 [00:02<00:00,  2.48s/it]\n",
            "100%|██████████| 1/1 [00:05<00:00,  5.41s/it]\n"
          ]
        },
        {
          "output_type": "stream",
          "name": "stdout",
          "text": [
            "\n",
            "WARNING ⚠️ imgsz=[284, 1280] must be multiple of max stride 32, updating to [288, 1280]\n",
            "0: 288x1280 5 embeddings, 1 isolated, 659.5ms\n",
            "Speed: 4.2ms preprocess, 659.5ms inference, 1.4ms postprocess per image at shape (1, 3, 288, 1280)\n"
          ]
        },
        {
          "output_type": "stream",
          "name": "stderr",
          "text": [
            "100%|██████████| 5/5 [00:04<00:00,  1.15it/s]\n"
          ]
        },
        {
          "output_type": "stream",
          "name": "stdout",
          "text": [
            "\n",
            "WARNING ⚠️ imgsz=[268, 1280] must be multiple of max stride 32, updating to [288, 1280]\n",
            "0: 288x1280 2 embeddings, 395.7ms\n",
            "Speed: 4.8ms preprocess, 395.7ms inference, 1.1ms postprocess per image at shape (1, 3, 288, 1280)\n"
          ]
        },
        {
          "output_type": "stream",
          "name": "stderr",
          "text": [
            "100%|██████████| 2/2 [00:01<00:00,  1.42it/s]\n",
            "100%|██████████| 1/1 [00:03<00:00,  3.10s/it]\n"
          ]
        },
        {
          "output_type": "stream",
          "name": "stdout",
          "text": [
            "\n",
            "WARNING ⚠️ imgsz=[295, 1280] must be multiple of max stride 32, updating to [320, 1280]\n",
            "0: 320x1280 1 embedding, 445.0ms\n",
            "Speed: 4.4ms preprocess, 445.0ms inference, 1.2ms postprocess per image at shape (1, 3, 320, 1280)\n"
          ]
        },
        {
          "output_type": "stream",
          "name": "stderr",
          "text": [
            "100%|██████████| 1/1 [00:00<00:00,  1.28it/s]\n",
            "100%|██████████| 1/1 [00:02<00:00,  2.98s/it]\n"
          ]
        },
        {
          "output_type": "stream",
          "name": "stdout",
          "text": [
            "\n",
            "WARNING ⚠️ imgsz=[338, 1280] must be multiple of max stride 32, updating to [352, 1280]\n",
            "0: 352x1280 1 embedding, 497.2ms\n",
            "Speed: 5.2ms preprocess, 497.2ms inference, 1.2ms postprocess per image at shape (1, 3, 352, 1280)\n"
          ]
        },
        {
          "output_type": "stream",
          "name": "stderr",
          "text": [
            "100%|██████████| 1/1 [00:00<00:00,  1.28it/s]\n",
            "100%|██████████| 1/1 [00:01<00:00,  1.70s/it]\n"
          ]
        },
        {
          "output_type": "stream",
          "name": "stdout",
          "text": [
            "\n",
            "WARNING ⚠️ imgsz=[1139, 1280] must be multiple of max stride 32, updating to [1152, 1280]\n",
            "0: 1152x1280 1 isolated, 1756.0ms\n",
            "Speed: 11.4ms preprocess, 1756.0ms inference, 1.4ms postprocess per image at shape (1, 3, 1152, 1280)\n"
          ]
        },
        {
          "output_type": "stream",
          "name": "stderr",
          "text": [
            "100%|██████████| 1/1 [00:00<00:00,  1.31it/s]\n",
            "100%|██████████| 1/1 [00:01<00:00,  1.25s/it]\n",
            "100%|██████████| 1/1 [00:03<00:00,  3.77s/it]\n"
          ]
        },
        {
          "output_type": "stream",
          "name": "stdout",
          "text": [
            "\n",
            "WARNING ⚠️ imgsz=[1656, 1280] must be multiple of max stride 32, updating to [1664, 1280]\n",
            "0: 1664x1280 (no detections), 3364.3ms\n",
            "Speed: 25.9ms preprocess, 3364.3ms inference, 1.2ms postprocess per image at shape (1, 3, 1664, 1280)\n"
          ]
        },
        {
          "output_type": "stream",
          "name": "stderr",
          "text": [
            "0it [00:00, ?it/s]\n"
          ]
        },
        {
          "output_type": "stream",
          "name": "stdout",
          "text": [
            "Saved Markdown to output/2073/page_3.md\n",
            "\n",
            "0: 1024x800 1 title, 10 plain texts, 6 isolate_formulas, 6 formula_captions, 4628.4ms\n",
            "Speed: 7.7ms preprocess, 4628.4ms inference, 1.2ms postprocess per image at shape (1, 3, 1024, 800)\n",
            "Loading /root/.pix2text/1.1/mfd-onnx/mfd-v20240618.onnx for ONNX Runtime inference...\n",
            "Using ONNX Runtime CPUExecutionProvider\n",
            "\n",
            "WARNING ⚠️ imgsz=[281, 1280] must be multiple of max stride 32, updating to [288, 1280]\n",
            "0: 288x1280 5 embeddings, 665.6ms\n",
            "Speed: 4.1ms preprocess, 665.6ms inference, 1.5ms postprocess per image at shape (1, 3, 288, 1280)\n"
          ]
        },
        {
          "output_type": "stream",
          "name": "stderr",
          "text": [
            "100%|██████████| 5/5 [00:04<00:00,  1.01it/s]\n"
          ]
        },
        {
          "output_type": "stream",
          "name": "stdout",
          "text": [
            "\n",
            "WARNING ⚠️ imgsz=[315, 1280] must be multiple of max stride 32, updating to [320, 1280]\n",
            "0: 320x1280 5 embeddings, 453.2ms\n",
            "Speed: 4.0ms preprocess, 453.2ms inference, 1.1ms postprocess per image at shape (1, 3, 320, 1280)\n"
          ]
        },
        {
          "output_type": "stream",
          "name": "stderr",
          "text": [
            "100%|██████████| 5/5 [00:05<00:00,  1.03s/it]\n"
          ]
        },
        {
          "output_type": "stream",
          "name": "stdout",
          "text": [
            "\n",
            "WARNING ⚠️ imgsz=[242, 1280] must be multiple of max stride 32, updating to [256, 1280]\n",
            "0: 256x1280 4 embeddings, 1 isolated, 370.0ms\n",
            "Speed: 3.5ms preprocess, 370.0ms inference, 1.1ms postprocess per image at shape (1, 3, 256, 1280)\n"
          ]
        },
        {
          "output_type": "stream",
          "name": "stderr",
          "text": [
            "100%|██████████| 2/2 [00:08<00:00,  4.14s/it]\n",
            "100%|██████████| 1/1 [00:07<00:00,  7.03s/it]"
          ]
        },
        {
          "output_type": "stream",
          "name": "stdout",
          "text": [
            "\n",
            "WARNING ⚠️ imgsz=[402, 1280] must be multiple of max stride 32, updating to [416, 1280]\n"
          ]
        },
        {
          "output_type": "stream",
          "name": "stderr",
          "text": [
            "\n"
          ]
        },
        {
          "output_type": "stream",
          "name": "stdout",
          "text": [
            "0: 416x1280 2 embeddings, 609.7ms\n",
            "Speed: 5.5ms preprocess, 609.7ms inference, 1.1ms postprocess per image at shape (1, 3, 416, 1280)\n"
          ]
        },
        {
          "output_type": "stream",
          "name": "stderr",
          "text": [
            "100%|██████████| 2/2 [00:02<00:00,  1.11s/it]\n",
            "100%|██████████| 1/1 [00:03<00:00,  3.07s/it]\n",
            "100%|██████████| 1/1 [00:04<00:00,  4.49s/it]"
          ]
        },
        {
          "output_type": "stream",
          "name": "stdout",
          "text": [
            "\n",
            "WARNING ⚠️ imgsz=[1052, 1280] must be multiple of max stride 32, updating to [1056, 1280]\n"
          ]
        },
        {
          "output_type": "stream",
          "name": "stderr",
          "text": [
            "\n"
          ]
        },
        {
          "output_type": "stream",
          "name": "stdout",
          "text": [
            "0: 1056x1280 1 isolated, 1741.6ms\n",
            "Speed: 13.3ms preprocess, 1741.6ms inference, 1.8ms postprocess per image at shape (1, 3, 1056, 1280)\n"
          ]
        },
        {
          "output_type": "stream",
          "name": "stderr",
          "text": [
            "100%|██████████| 1/1 [00:01<00:00,  1.27s/it]\n",
            "100%|██████████| 1/1 [00:04<00:00,  4.26s/it]"
          ]
        },
        {
          "output_type": "stream",
          "name": "stdout",
          "text": [
            "\n",
            "WARNING ⚠️ imgsz=[1173, 1280] must be multiple of max stride 32, updating to [1184, 1280]\n"
          ]
        },
        {
          "output_type": "stream",
          "name": "stderr",
          "text": [
            "\n"
          ]
        },
        {
          "output_type": "stream",
          "name": "stdout",
          "text": [
            "0: 1184x1280 1 isolated, 1744.5ms\n",
            "Speed: 13.8ms preprocess, 1744.5ms inference, 2.0ms postprocess per image at shape (1, 3, 1184, 1280)\n"
          ]
        },
        {
          "output_type": "stream",
          "name": "stderr",
          "text": [
            "100%|██████████| 1/1 [00:00<00:00,  1.39it/s]\n",
            "100%|██████████| 1/1 [00:04<00:00,  4.31s/it]"
          ]
        },
        {
          "output_type": "stream",
          "name": "stdout",
          "text": [
            "\n",
            "WARNING ⚠️ imgsz=[304, 1280] must be multiple of max stride 32, updating to [320, 1280]\n"
          ]
        },
        {
          "output_type": "stream",
          "name": "stderr",
          "text": [
            "\n"
          ]
        },
        {
          "output_type": "stream",
          "name": "stdout",
          "text": [
            "0: 320x1280 6 embeddings, 750.4ms\n",
            "Speed: 7.9ms preprocess, 750.4ms inference, 1.6ms postprocess per image at shape (1, 3, 320, 1280)\n"
          ]
        },
        {
          "output_type": "stream",
          "name": "stderr",
          "text": [
            "100%|██████████| 3/3 [00:03<00:00,  1.16s/it]\n"
          ]
        },
        {
          "output_type": "stream",
          "name": "stdout",
          "text": [
            "\n",
            "WARNING ⚠️ imgsz=[236, 1280] must be multiple of max stride 32, updating to [256, 1280]\n",
            "0: 256x1280 1 embedding, 363.2ms\n",
            "Speed: 4.0ms preprocess, 363.2ms inference, 1.1ms postprocess per image at shape (1, 3, 256, 1280)\n"
          ]
        },
        {
          "output_type": "stream",
          "name": "stderr",
          "text": [
            "100%|██████████| 1/1 [00:00<00:00,  1.43it/s]\n",
            "100%|██████████| 1/1 [00:01<00:00,  1.49s/it]\n"
          ]
        },
        {
          "output_type": "stream",
          "name": "stdout",
          "text": [
            "\n",
            "WARNING ⚠️ imgsz=[266, 1280] must be multiple of max stride 32, updating to [288, 1280]\n",
            "0: 288x1280 2 embeddings, 398.0ms\n",
            "Speed: 4.2ms preprocess, 398.0ms inference, 1.1ms postprocess per image at shape (1, 3, 288, 1280)\n"
          ]
        },
        {
          "output_type": "stream",
          "name": "stderr",
          "text": [
            "100%|██████████| 2/2 [00:01<00:00,  1.20it/s]\n"
          ]
        },
        {
          "output_type": "stream",
          "name": "stdout",
          "text": [
            "\n",
            "WARNING ⚠️ imgsz=[1656, 1280] must be multiple of max stride 32, updating to [1664, 1280]\n",
            "0: 1664x1280 1 isolated, 3366.8ms\n",
            "Speed: 17.5ms preprocess, 3366.8ms inference, 2.4ms postprocess per image at shape (1, 3, 1664, 1280)\n"
          ]
        },
        {
          "output_type": "stream",
          "name": "stderr",
          "text": [
            "100%|██████████| 1/1 [00:03<00:00,  3.67s/it]\n"
          ]
        },
        {
          "output_type": "stream",
          "name": "stdout",
          "text": [
            "Saved Markdown to output/2073/page_4.md\n",
            "\n",
            "0: 1024x800 1 title, 6 plain texts, 7 isolate_formulas, 7 formula_captions, 5326.3ms\n",
            "Speed: 7.4ms preprocess, 5326.3ms inference, 1.6ms postprocess per image at shape (1, 3, 1024, 800)\n",
            "Loading /root/.pix2text/1.1/mfd-onnx/mfd-v20240618.onnx for ONNX Runtime inference...\n",
            "Using ONNX Runtime CPUExecutionProvider\n",
            "\n",
            "WARNING ⚠️ imgsz=[726, 1280] must be multiple of max stride 32, updating to [736, 1280]\n",
            "0: 736x1280 18 embeddings, 1369.7ms\n",
            "Speed: 12.8ms preprocess, 1369.7ms inference, 1.3ms postprocess per image at shape (1, 3, 736, 1280)\n"
          ]
        },
        {
          "output_type": "stream",
          "name": "stderr",
          "text": [
            "100%|██████████| 18/18 [00:15<00:00,  1.13it/s]\n"
          ]
        },
        {
          "output_type": "stream",
          "name": "stdout",
          "text": [
            "\n",
            "WARNING ⚠️ imgsz=[233, 1280] must be multiple of max stride 32, updating to [256, 1280]\n",
            "0: 256x1280 2 embeddings, 375.1ms\n",
            "Speed: 2.9ms preprocess, 375.1ms inference, 1.1ms postprocess per image at shape (1, 3, 256, 1280)\n"
          ]
        },
        {
          "output_type": "stream",
          "name": "stderr",
          "text": [
            "100%|██████████| 2/2 [00:01<00:00,  1.22it/s]\n",
            "100%|██████████| 1/1 [00:02<00:00,  2.14s/it]\n",
            "100%|██████████| 1/1 [00:09<00:00,  9.28s/it]\n",
            "100%|██████████| 1/1 [00:04<00:00,  4.62s/it]\n",
            "100%|██████████| 1/1 [00:03<00:00,  3.09s/it]\n",
            "100%|██████████| 1/1 [00:05<00:00,  5.55s/it]\n"
          ]
        },
        {
          "output_type": "stream",
          "name": "stdout",
          "text": [
            "\n",
            "WARNING ⚠️ imgsz=[1173, 1280] must be multiple of max stride 32, updating to [1184, 1280]\n",
            "0: 1184x1280 1 isolated, 1821.6ms\n",
            "Speed: 14.3ms preprocess, 1821.6ms inference, 1.4ms postprocess per image at shape (1, 3, 1184, 1280)\n"
          ]
        },
        {
          "output_type": "stream",
          "name": "stderr",
          "text": [
            "100%|██████████| 1/1 [00:00<00:00,  1.39it/s]\n",
            "100%|██████████| 1/1 [00:05<00:00,  5.60s/it]\n"
          ]
        },
        {
          "output_type": "stream",
          "name": "stdout",
          "text": [
            "\n",
            "WARNING ⚠️ imgsz=[462, 1280] must be multiple of max stride 32, updating to [480, 1280]\n",
            "0: 480x1280 1 embedding, 1 isolated, 1087.7ms\n",
            "Speed: 6.6ms preprocess, 1087.7ms inference, 1.2ms postprocess per image at shape (1, 3, 480, 1280)\n"
          ]
        },
        {
          "output_type": "stream",
          "name": "stderr",
          "text": [
            "100%|██████████| 1/1 [00:02<00:00,  2.23s/it]\n"
          ]
        },
        {
          "output_type": "stream",
          "name": "stdout",
          "text": [
            "\n",
            "WARNING ⚠️ imgsz=[325, 1280] must be multiple of max stride 32, updating to [352, 1280]\n",
            "0: 352x1280 8 embeddings, 502.6ms\n",
            "Speed: 5.3ms preprocess, 502.6ms inference, 1.1ms postprocess per image at shape (1, 3, 352, 1280)\n"
          ]
        },
        {
          "output_type": "stream",
          "name": "stderr",
          "text": [
            "100%|██████████| 4/4 [00:03<00:00,  1.10it/s]\n",
            "100%|██████████| 1/1 [00:02<00:00,  2.83s/it]\n"
          ]
        },
        {
          "output_type": "stream",
          "name": "stdout",
          "text": [
            "\n",
            "WARNING ⚠️ imgsz=[1656, 1280] must be multiple of max stride 32, updating to [1664, 1280]\n",
            "0: 1664x1280 1 isolated, 2716.6ms\n",
            "Speed: 17.8ms preprocess, 2716.6ms inference, 1.7ms postprocess per image at shape (1, 3, 1664, 1280)\n"
          ]
        },
        {
          "output_type": "stream",
          "name": "stderr",
          "text": [
            "100%|██████████| 1/1 [00:03<00:00,  3.34s/it]\n"
          ]
        },
        {
          "output_type": "stream",
          "name": "stdout",
          "text": [
            "Saved Markdown to output/2073/page_5.md\n",
            "\n",
            "0: 1024x800 1 title, 8 plain texts, 5 isolate_formulas, 6 formula_captions, 5178.1ms\n",
            "Speed: 14.5ms preprocess, 5178.1ms inference, 1.4ms postprocess per image at shape (1, 3, 1024, 800)\n",
            "Loading /root/.pix2text/1.1/mfd-onnx/mfd-v20240618.onnx for ONNX Runtime inference...\n",
            "Using ONNX Runtime CPUExecutionProvider\n",
            "\n",
            "WARNING ⚠️ imgsz=[652, 1280] must be multiple of max stride 32, updating to [672, 1280]\n",
            "0: 672x1280 5 embeddings, 1039.6ms\n",
            "Speed: 8.1ms preprocess, 1039.6ms inference, 1.3ms postprocess per image at shape (1, 3, 672, 1280)\n"
          ]
        },
        {
          "output_type": "stream",
          "name": "stderr",
          "text": [
            "100%|██████████| 5/5 [00:04<00:00,  1.08it/s]\n"
          ]
        },
        {
          "output_type": "stream",
          "name": "stdout",
          "text": [
            "\n",
            "WARNING ⚠️ imgsz=[268, 1280] must be multiple of max stride 32, updating to [288, 1280]\n",
            "0: 288x1280 2 embeddings, 405.8ms\n",
            "Speed: 4.1ms preprocess, 405.8ms inference, 1.1ms postprocess per image at shape (1, 3, 288, 1280)\n"
          ]
        },
        {
          "output_type": "stream",
          "name": "stderr",
          "text": [
            "100%|██████████| 2/2 [00:01<00:00,  1.20it/s]\n"
          ]
        },
        {
          "output_type": "stream",
          "name": "stdout",
          "text": [
            "\n",
            "WARNING ⚠️ imgsz=[262, 1280] must be multiple of max stride 32, updating to [288, 1280]\n",
            "0: 288x1280 6 embeddings, 665.6ms\n",
            "Speed: 4.3ms preprocess, 665.6ms inference, 1.1ms postprocess per image at shape (1, 3, 288, 1280)\n"
          ]
        },
        {
          "output_type": "stream",
          "name": "stderr",
          "text": [
            "100%|██████████| 6/6 [00:06<00:00,  1.08s/it]\n",
            "100%|██████████| 1/1 [00:04<00:00,  4.37s/it]\n"
          ]
        },
        {
          "output_type": "stream",
          "name": "stdout",
          "text": [
            "\n",
            "WARNING ⚠️ imgsz=[297, 1280] must be multiple of max stride 32, updating to [320, 1280]\n",
            "0: 320x1280 3 embeddings, 453.1ms\n",
            "Speed: 4.9ms preprocess, 453.1ms inference, 1.2ms postprocess per image at shape (1, 3, 320, 1280)\n"
          ]
        },
        {
          "output_type": "stream",
          "name": "stderr",
          "text": [
            "100%|██████████| 3/3 [00:02<00:00,  1.07it/s]\n",
            "100%|██████████| 1/1 [00:02<00:00,  2.88s/it]\n"
          ]
        },
        {
          "output_type": "stream",
          "name": "stdout",
          "text": [
            "\n",
            "WARNING ⚠️ imgsz=[1161, 1280] must be multiple of max stride 32, updating to [1184, 1280]\n",
            "0: 1184x1280 (no detections), 2685.1ms\n",
            "Speed: 13.1ms preprocess, 2685.1ms inference, 1.1ms postprocess per image at shape (1, 3, 1184, 1280)\n"
          ]
        },
        {
          "output_type": "stream",
          "name": "stderr",
          "text": [
            "0it [00:00, ?it/s]\n",
            "100%|██████████| 1/1 [00:02<00:00,  2.27s/it]\n"
          ]
        },
        {
          "output_type": "stream",
          "name": "stdout",
          "text": [
            "\n",
            "WARNING ⚠️ imgsz=[252, 1280] must be multiple of max stride 32, updating to [256, 1280]\n",
            "0: 256x1280 1 embedding, 363.6ms\n",
            "Speed: 3.7ms preprocess, 363.6ms inference, 1.2ms postprocess per image at shape (1, 3, 256, 1280)\n"
          ]
        },
        {
          "output_type": "stream",
          "name": "stderr",
          "text": [
            "100%|██████████| 1/1 [00:00<00:00,  1.49it/s]\n",
            "100%|██████████| 1/1 [00:02<00:00,  2.71s/it]\n"
          ]
        },
        {
          "output_type": "stream",
          "name": "stdout",
          "text": [
            "\n",
            "WARNING ⚠️ imgsz=[255, 1280] must be multiple of max stride 32, updating to [256, 1280]\n",
            "0: 256x1280 1 embedding, 590.5ms\n",
            "Speed: 4.0ms preprocess, 590.5ms inference, 1.3ms postprocess per image at shape (1, 3, 256, 1280)\n"
          ]
        },
        {
          "output_type": "stream",
          "name": "stderr",
          "text": [
            "100%|██████████| 1/1 [00:01<00:00,  1.62s/it]\n",
            "100%|██████████| 1/1 [00:02<00:00,  2.85s/it]\n"
          ]
        },
        {
          "output_type": "stream",
          "name": "stdout",
          "text": [
            "\n",
            "WARNING ⚠️ imgsz=[281, 1280] must be multiple of max stride 32, updating to [288, 1280]\n",
            "0: 288x1280 3 embeddings, 511.8ms\n",
            "Speed: 4.1ms preprocess, 511.8ms inference, 1.5ms postprocess per image at shape (1, 3, 288, 1280)\n"
          ]
        },
        {
          "output_type": "stream",
          "name": "stderr",
          "text": [
            "100%|██████████| 3/3 [00:04<00:00,  1.33s/it]\n"
          ]
        },
        {
          "output_type": "stream",
          "name": "stdout",
          "text": [
            "\n",
            "WARNING ⚠️ imgsz=[1656, 1280] must be multiple of max stride 32, updating to [1664, 1280]\n",
            "0: 1664x1280 (no detections), 2697.9ms\n",
            "Speed: 16.9ms preprocess, 2697.9ms inference, 1.1ms postprocess per image at shape (1, 3, 1664, 1280)\n"
          ]
        },
        {
          "output_type": "stream",
          "name": "stderr",
          "text": [
            "0it [00:00, ?it/s]\n"
          ]
        },
        {
          "output_type": "stream",
          "name": "stdout",
          "text": [
            "Saved Markdown to output/2073/page_6.md\n",
            "\n",
            "0: 1024x800 9 plain texts, 5 isolate_formulas, 5 formula_captions, 5770.1ms\n",
            "Speed: 13.9ms preprocess, 5770.1ms inference, 1.2ms postprocess per image at shape (1, 3, 1024, 800)\n",
            "Loading /root/.pix2text/1.1/mfd-onnx/mfd-v20240618.onnx for ONNX Runtime inference...\n",
            "Using ONNX Runtime CPUExecutionProvider\n",
            "\n",
            "WARNING ⚠️ imgsz=[367, 1280] must be multiple of max stride 32, updating to [384, 1280]\n",
            "0: 384x1280 7 embeddings, 567.7ms\n",
            "Speed: 5.4ms preprocess, 567.7ms inference, 1.1ms postprocess per image at shape (1, 3, 384, 1280)\n"
          ]
        },
        {
          "output_type": "stream",
          "name": "stderr",
          "text": [
            "100%|██████████| 7/7 [00:08<00:00,  1.27s/it]\n"
          ]
        },
        {
          "output_type": "stream",
          "name": "stdout",
          "text": [
            "\n",
            "WARNING ⚠️ imgsz=[349, 1280] must be multiple of max stride 32, updating to [352, 1280]\n",
            "0: 352x1280 7 embeddings, 500.6ms\n",
            "Speed: 5.0ms preprocess, 500.6ms inference, 1.2ms postprocess per image at shape (1, 3, 352, 1280)\n"
          ]
        },
        {
          "output_type": "stream",
          "name": "stderr",
          "text": [
            "100%|██████████| 7/7 [00:09<00:00,  1.31s/it]\n"
          ]
        },
        {
          "output_type": "stream",
          "name": "stdout",
          "text": [
            "\n",
            "WARNING ⚠️ imgsz=[427, 1280] must be multiple of max stride 32, updating to [448, 1280]\n",
            "0: 448x1280 4 embeddings, 653.7ms\n",
            "Speed: 6.2ms preprocess, 653.7ms inference, 1.2ms postprocess per image at shape (1, 3, 448, 1280)\n"
          ]
        },
        {
          "output_type": "stream",
          "name": "stderr",
          "text": [
            "100%|██████████| 4/4 [00:04<00:00,  1.10s/it]\n",
            "100%|██████████| 1/1 [00:01<00:00,  1.75s/it]"
          ]
        },
        {
          "output_type": "stream",
          "name": "stdout",
          "text": [
            "\n",
            "WARNING ⚠️ imgsz=[1162, 1280] must be multiple of max stride 32, updating to [1184, 1280]\n"
          ]
        },
        {
          "output_type": "stream",
          "name": "stderr",
          "text": [
            "\n"
          ]
        },
        {
          "output_type": "stream",
          "name": "stdout",
          "text": [
            "0: 1184x1280 1 isolated, 2782.3ms\n",
            "Speed: 16.3ms preprocess, 2782.3ms inference, 2.2ms postprocess per image at shape (1, 3, 1184, 1280)\n"
          ]
        },
        {
          "output_type": "stream",
          "name": "stderr",
          "text": [
            "100%|██████████| 1/1 [00:00<00:00,  1.39it/s]\n",
            "100%|██████████| 1/1 [00:02<00:00,  2.20s/it]"
          ]
        },
        {
          "output_type": "stream",
          "name": "stdout",
          "text": [
            "\n",
            "WARNING ⚠️ imgsz=[248, 1280] must be multiple of max stride 32, updating to [256, 1280]\n"
          ]
        },
        {
          "output_type": "stream",
          "name": "stderr",
          "text": [
            "\n"
          ]
        },
        {
          "output_type": "stream",
          "name": "stdout",
          "text": [
            "0: 256x1280 2 embeddings, 363.5ms\n",
            "Speed: 3.8ms preprocess, 363.5ms inference, 1.1ms postprocess per image at shape (1, 3, 256, 1280)\n"
          ]
        },
        {
          "output_type": "stream",
          "name": "stderr",
          "text": [
            "100%|██████████| 2/2 [00:03<00:00,  1.86s/it]\n",
            "100%|██████████| 1/1 [00:37<00:00, 37.33s/it]"
          ]
        },
        {
          "output_type": "stream",
          "name": "stdout",
          "text": [
            "\n",
            "WARNING ⚠️ imgsz=[1237, 1280] must be multiple of max stride 32, updating to [1248, 1280]\n"
          ]
        },
        {
          "output_type": "stream",
          "name": "stderr",
          "text": [
            "\n"
          ]
        },
        {
          "output_type": "stream",
          "name": "stdout",
          "text": [
            "0: 1248x1280 (no detections), 2178.6ms\n",
            "Speed: 20.6ms preprocess, 2178.6ms inference, 1.1ms postprocess per image at shape (1, 3, 1248, 1280)\n"
          ]
        },
        {
          "output_type": "stream",
          "name": "stderr",
          "text": [
            "0it [00:00, ?it/s]\n",
            "100%|██████████| 1/1 [00:16<00:00, 16.40s/it]"
          ]
        },
        {
          "output_type": "stream",
          "name": "stdout",
          "text": [
            "\n",
            "WARNING ⚠️ imgsz=[328, 1280] must be multiple of max stride 32, updating to [352, 1280]\n"
          ]
        },
        {
          "output_type": "stream",
          "name": "stderr",
          "text": [
            "\n"
          ]
        },
        {
          "output_type": "stream",
          "name": "stdout",
          "text": [
            "0: 352x1280 (no detections), 519.9ms\n",
            "Speed: 4.1ms preprocess, 519.9ms inference, 0.7ms postprocess per image at shape (1, 3, 352, 1280)\n"
          ]
        },
        {
          "output_type": "stream",
          "name": "stderr",
          "text": [
            "0it [00:00, ?it/s]\n",
            "100%|██████████| 1/1 [00:05<00:00,  5.24s/it]\n"
          ]
        },
        {
          "output_type": "stream",
          "name": "stdout",
          "text": [
            "\n",
            "WARNING ⚠️ imgsz=[1656, 1280] must be multiple of max stride 32, updating to [1664, 1280]\n",
            "0: 1664x1280 (no detections), 2668.9ms\n",
            "Speed: 18.8ms preprocess, 2668.9ms inference, 1.5ms postprocess per image at shape (1, 3, 1664, 1280)\n"
          ]
        },
        {
          "output_type": "stream",
          "name": "stderr",
          "text": [
            "0it [00:00, ?it/s]\n"
          ]
        },
        {
          "output_type": "stream",
          "name": "stdout",
          "text": [
            "Saved Markdown to output/2073/page_7.md\n",
            "\n",
            "0: 1024x800 3 titles, 6 plain texts, 5707.9ms\n",
            "Speed: 8.5ms preprocess, 5707.9ms inference, 1.5ms postprocess per image at shape (1, 3, 1024, 800)\n",
            "Loading /root/.pix2text/1.1/mfd-onnx/mfd-v20240618.onnx for ONNX Runtime inference...\n",
            "Using ONNX Runtime CPUExecutionProvider\n",
            "\n",
            "WARNING ⚠️ imgsz=[420, 1280] must be multiple of max stride 32, updating to [448, 1280]\n",
            "0: 448x1280 7 embeddings, 664.3ms\n",
            "Speed: 7.8ms preprocess, 664.3ms inference, 1.7ms postprocess per image at shape (1, 3, 448, 1280)\n"
          ]
        },
        {
          "output_type": "stream",
          "name": "stderr",
          "text": [
            "100%|██████████| 4/4 [00:04<00:00,  1.19s/it]\n"
          ]
        },
        {
          "output_type": "stream",
          "name": "stdout",
          "text": [
            "\n",
            "WARNING ⚠️ imgsz=[404, 1280] must be multiple of max stride 32, updating to [416, 1280]\n",
            "0: 416x1280 2 embeddings, 956.2ms\n",
            "Speed: 7.4ms preprocess, 956.2ms inference, 1.5ms postprocess per image at shape (1, 3, 416, 1280)\n"
          ]
        },
        {
          "output_type": "stream",
          "name": "stderr",
          "text": [
            "100%|██████████| 2/2 [00:02<00:00,  1.24s/it]\n"
          ]
        },
        {
          "output_type": "stream",
          "name": "stdout",
          "text": [
            "\n",
            "WARNING ⚠️ imgsz=[316, 1280] must be multiple of max stride 32, updating to [320, 1280]\n",
            "0: 320x1280 2 embeddings, 458.8ms\n",
            "Speed: 5.8ms preprocess, 458.8ms inference, 1.1ms postprocess per image at shape (1, 3, 320, 1280)\n"
          ]
        },
        {
          "output_type": "stream",
          "name": "stderr",
          "text": [
            "100%|██████████| 2/2 [00:02<00:00,  1.10s/it]\n"
          ]
        },
        {
          "output_type": "stream",
          "name": "stdout",
          "text": [
            "\n",
            "WARNING ⚠️ imgsz=[695, 1280] must be multiple of max stride 32, updating to [704, 1280]\n",
            "0: 704x1280 2 embeddings, 1038.5ms\n",
            "Speed: 9.3ms preprocess, 1038.5ms inference, 1.4ms postprocess per image at shape (1, 3, 704, 1280)\n"
          ]
        },
        {
          "output_type": "stream",
          "name": "stderr",
          "text": [
            "100%|██████████| 2/2 [00:01<00:00,  1.48it/s]\n"
          ]
        },
        {
          "output_type": "stream",
          "name": "stdout",
          "text": [
            "\n",
            "WARNING ⚠️ imgsz=[349, 1280] must be multiple of max stride 32, updating to [352, 1280]\n",
            "0: 352x1280 (no detections), 489.3ms\n",
            "Speed: 4.8ms preprocess, 489.3ms inference, 0.8ms postprocess per image at shape (1, 3, 352, 1280)\n"
          ]
        },
        {
          "output_type": "stream",
          "name": "stderr",
          "text": [
            "0it [00:00, ?it/s]\n"
          ]
        },
        {
          "output_type": "stream",
          "name": "stdout",
          "text": [
            "\n",
            "WARNING ⚠️ imgsz=[1656, 1280] must be multiple of max stride 32, updating to [1664, 1280]\n",
            "0: 1664x1280 (no detections), 2673.2ms\n",
            "Speed: 17.2ms preprocess, 2673.2ms inference, 1.6ms postprocess per image at shape (1, 3, 1664, 1280)\n"
          ]
        },
        {
          "output_type": "stream",
          "name": "stderr",
          "text": [
            "0it [00:00, ?it/s]\n"
          ]
        },
        {
          "output_type": "stream",
          "name": "stdout",
          "text": [
            "Saved Markdown to output/2073/page_8.md\n",
            "\n",
            "0: 1024x800 1 plain text, 5972.3ms\n",
            "Speed: 7.6ms preprocess, 5972.3ms inference, 1.8ms postprocess per image at shape (1, 3, 1024, 800)\n",
            "Loading /root/.pix2text/1.1/mfd-onnx/mfd-v20240618.onnx for ONNX Runtime inference...\n",
            "Using ONNX Runtime CPUExecutionProvider\n",
            "\n",
            "WARNING ⚠️ imgsz=[694, 1280] must be multiple of max stride 32, updating to [704, 1280]\n",
            "0: 704x1280 3 embeddings, 1481.9ms\n",
            "Speed: 12.2ms preprocess, 1481.9ms inference, 1.4ms postprocess per image at shape (1, 3, 704, 1280)\n"
          ]
        },
        {
          "output_type": "stream",
          "name": "stderr",
          "text": [
            "100%|██████████| 3/3 [00:03<00:00,  1.02s/it]\n"
          ]
        },
        {
          "output_type": "stream",
          "name": "stdout",
          "text": [
            "\n",
            "WARNING ⚠️ imgsz=[1656, 1280] must be multiple of max stride 32, updating to [1664, 1280]\n",
            "0: 1664x1280 (no detections), 3415.2ms\n",
            "Speed: 17.6ms preprocess, 3415.2ms inference, 1.7ms postprocess per image at shape (1, 3, 1664, 1280)\n"
          ]
        },
        {
          "output_type": "stream",
          "name": "stderr",
          "text": [
            "0it [00:00, ?it/s]\n"
          ]
        },
        {
          "output_type": "stream",
          "name": "stdout",
          "text": [
            "Saved Markdown to output/2073/page_9.md\n",
            "Completed processing 2073.pdf\n"
          ]
        }
      ],
      "source": [
        "# code from pixImple.py\n",
        "\n",
        "def run_pix2text(img_fp, page_number):\n",
        "    p2t = Pix2Text.from_config(device=\"cpu\")\n",
        "    kwargs = {\n",
        "        \"resized_shape\": 1280,\n",
        "        \"mfr_batch_size\": 1,\n",
        "        \"embed_sep\": (\" $\", \"$ \"),\n",
        "        \"isolated_sep\": (\"$$\", \"$$\"),\n",
        "        \"line_sep\": \"\\n\",\n",
        "        \"auto_line_break\": True,\n",
        "        \"det_text_bbox_max_width_expand_ratio\": 0.3,\n",
        "        \"det_text_bbox_max_height_expand_ratio\": 0.2,\n",
        "        \"embed_ratio_threshold\": 0.6,\n",
        "        \"table_as_image\": True,\n",
        "        \"formula_rec_kwargs\": {}\n",
        "    }\n",
        "    try:\n",
        "        page = p2t.recognize_page(img_fp, page_number=page_number, **kwargs)\n",
        "        return page\n",
        "    except Exception as e:\n",
        "        print(f\"Error processing page {page_number}: {e}\")\n",
        "        return None\n",
        "\n",
        "def save_pix2text_output(page, page_number, output_page_dir):\n",
        "    os.makedirs(output_page_dir, exist_ok=True)\n",
        "    output_md_path = os.path.join(output_page_dir, f'page_{page_number}.md')\n",
        "    try:\n",
        "        page.to_markdown(output_md_path)\n",
        "        print(f\"Saved Markdown to {output_md_path}\")\n",
        "    except Exception as e:\n",
        "        print(f\"Error saving Markdown for page {page_number}: {e}\")\n",
        "\n",
        "    if hasattr(page, 'images') and page.images:\n",
        "        for img_name, img_data in page.images.items():\n",
        "            output_img_path = os.path.join(output_page_dir, f'{page_number}_img_{img_name}')\n",
        "            try:\n",
        "                with open(output_img_path, 'wb') as img_file:\n",
        "                    img_file.write(img_data)\n",
        "                print(f\"Saved image to {output_img_path}\")\n",
        "            except Exception as e:\n",
        "                print(f\"Error saving image {img_name} for page {page_number}: {e}\")\n",
        "\n",
        "# modified from pixImple to process PDFs by each page into markdown files\n",
        "def process_pdfs(input_dir, output_dir):\n",
        "    os.makedirs(output_dir, exist_ok=True)\n",
        "    pdf_files = [f for f in os.listdir(input_dir) if f.endswith('.pdf')]\n",
        "\n",
        "    for pdf_file in pdf_files:\n",
        "        pdf_path = os.path.join(input_dir, pdf_file)\n",
        "        pdf_output_dir = os.path.join(output_dir, os.path.splitext(pdf_file)[0])\n",
        "        os.makedirs(pdf_output_dir, exist_ok=True)\n",
        "\n",
        "        doc = fitz.open(pdf_path)\n",
        "        for page_number in range(len(doc)):\n",
        "            page = doc.load_page(page_number)\n",
        "            img_fp = os.path.join(pdf_output_dir, f'page_{page_number + 1}.png')\n",
        "            pix = page.get_pixmap()\n",
        "            pix.save(img_fp)\n",
        "\n",
        "            result = run_pix2text(img_fp, page_number + 1)\n",
        "            if result:\n",
        "                save_pix2text_output(result, page_number + 1, pdf_output_dir)\n",
        "\n",
        "        doc.close()\n",
        "        print(f\"Completed processing {pdf_file}\")\n",
        "\n",
        "# Process pdfs into output folder\n",
        "input_dir = 'input'\n",
        "output_dir = 'output'\n",
        "process_pdfs(input_dir, output_dir)\n"
      ]
    },
    {
      "cell_type": "markdown",
      "source": [
        "## Combine Markdowns into One"
      ],
      "metadata": {
        "id": "KXsqiKXKY9Nn"
      }
    },
    {
      "cell_type": "code",
      "source": [
        "# function to combine all markdowns within each pdf folder to output single markdown\n",
        "def combine_output_markdowns(output_dir):\n",
        "    for folder in os.listdir(output_dir):\n",
        "        folder_path = os.path.join(output_dir, folder)\n",
        "        if os.path.isdir(folder_path):\n",
        "            combined_md_path = os.path.join(folder_path, f'{folder}_combined.md')\n",
        "            with open(combined_md_path, 'w', encoding='utf-8') as combined_file:\n",
        "                markdown_found = False\n",
        "                # Traverse subdirectories to find output.md\n",
        "                for subdir in os.listdir(folder_path):\n",
        "                    subdir_path = os.path.join(folder_path, subdir)\n",
        "                    if os.path.isdir(subdir_path):\n",
        "                        output_md_path = os.path.join(subdir_path, 'output.md')\n",
        "                        if os.path.isfile(output_md_path):\n",
        "                            with open(output_md_path, 'r', encoding='utf-8') as md_file:\n",
        "                                content = md_file.read().strip()\n",
        "                                if content:\n",
        "                                    combined_file.write(f'# {subdir}\\n\\n')  # Subdir name as header\n",
        "                                    combined_file.write(content + '\\n\\n')\n",
        "                                    markdown_found = True\n",
        "\n",
        "                if not markdown_found:\n",
        "                    print(f\"No output.md files found in {folder_path}, combined file will be empty.\")\n",
        "                else:\n",
        "                    print(f\"Combined markdown saved to {combined_md_path}\")\n"
      ],
      "metadata": {
        "id": "rk-LF01VuY-A"
      },
      "execution_count": null,
      "outputs": []
    },
    {
      "cell_type": "code",
      "source": [
        "# Combine markdowns\n",
        "output_dir = 'output'\n",
        "combine_output_markdowns(output_dir)"
      ],
      "metadata": {
        "colab": {
          "base_uri": "https://localhost:8080/"
        },
        "id": "jpz6Eh6puZPV",
        "outputId": "e8b2c6a9-0526-4129-eb14-da840a2208a1"
      },
      "execution_count": null,
      "outputs": [
        {
          "output_type": "stream",
          "name": "stdout",
          "text": [
            "Combined markdown saved to output/2099/2099_combined.md\n",
            "Combined markdown saved to output/2073/2073_combined.md\n"
          ]
        }
      ]
    },
    {
      "cell_type": "markdown",
      "source": [
        "## Build JSON from Combined Markdown"
      ],
      "metadata": {
        "id": "ZnTyphL9ZBAm"
      }
    },
    {
      "cell_type": "code",
      "source": [
        "# Set your API key\n",
        "genai.configure(api_key=\"-\")\n",
        "# Load the JSON schema\n",
        "with open(\"/content/json_schema.txt\", \"r\") as file:\n",
        "    json_schema = file.read()\n",
        "\n",
        "# Function to process a single Markdown file\n",
        "def process_markdown_file(md_file_path):\n",
        "    with open(md_file_path, \"r\") as file:\n",
        "        markdown_content = file.read()\n",
        "\n",
        "    # Prepare the prompt\n",
        "    prompt = f\"\"\"\n",
        "    Based on the following JSON schema, extract the information from the provided Markdown content and generate a JSON output:\n",
        "\n",
        "    JSON Schema:\n",
        "    {json_schema}\n",
        "\n",
        "    Markdown Content:\n",
        "    {markdown_content}\n",
        "\n",
        "    Please produce a JSON output following the schema exactly.\n",
        "    \"\"\"\n",
        "\n",
        "    # Call the Gemini API\n",
        "    # model = genai.GenerativeModel('gemini-2.0-pro-exp') #or gemini-pro-vision if you need it.\n",
        "    model = genai.GenerativeModel('gemini-2.0-flash') #or gemini-pro-vision if you need it.\n",
        "    response = model.generate_content(prompt)\n",
        "\n",
        "    # Get the generated JSON\n",
        "    generated_json = response.text\n",
        "\n",
        "    # Save JSON file in the same folder as the Markdown file\n",
        "    output_file_path = os.path.splitext(md_file_path)[0] + \".json\"\n",
        "    with open(output_file_path, \"w\") as file:\n",
        "        file.write(generated_json)\n",
        "\n",
        "    print(f\"JSON output saved to {output_file_path}\")\n"
      ],
      "metadata": {
        "id": "XKB--cGez1FA"
      },
      "execution_count": null,
      "outputs": []
    },
    {
      "cell_type": "code",
      "source": [
        "# Traverse multiple folders and process each Markdown file\n",
        "root_dir = \"output\"\n",
        "target_subdirs = [\"2073\", \"2099\"]\n",
        "\n",
        "for subdir in target_subdirs:\n",
        "    subdir_path = os.path.join(root_dir, subdir)\n",
        "\n",
        "    for file in os.listdir(subdir_path):\n",
        "        if file.endswith(\".md\") and os.path.isfile(os.path.join(subdir_path, file)):\n",
        "            md_file_path = os.path.join(subdir_path, file)\n",
        "\n",
        "            # Check if the .md file is directly in the target subdirectory (not in a nested subdirectory)\n",
        "            if os.path.dirname(md_file_path) == subdir_path:\n",
        "                print(f\"Processing {md_file_path}...\")\n",
        "                process_markdown_file(md_file_path)\n",
        "\n",
        "print(\"Processing complete.\")"
      ],
      "metadata": {
        "colab": {
          "base_uri": "https://localhost:8080/",
          "height": 106
        },
        "id": "LYSeq1wn0BtF",
        "outputId": "91431ba5-40fa-4ffc-a4e6-743f18cd6e6f"
      },
      "execution_count": null,
      "outputs": [
        {
          "output_type": "stream",
          "name": "stdout",
          "text": [
            "Processing output/2073/2073_combined.md...\n",
            "JSON output saved to output/2073/2073_combined.json\n",
            "Processing output/2099/2099_combined.md...\n",
            "JSON output saved to output/2099/2099_combined.json\n",
            "Processing complete.\n"
          ]
        }
      ]
    }
  ]
}
